{
 "cells": [
  {
   "cell_type": "code",
   "execution_count": 1,
   "metadata": {
    "collapsed": true,
    "urth": {
     "dashboard": {
      "hidden": true,
      "layout": {}
     }
    }
   },
   "outputs": [],
   "source": [
    "from bitfinex.client import Client\n",
    "import pandas as pd\n",
    "from ipywidgets import interact, interactive, fixed\n",
    "from ipywidgets import widgets\n",
    "from IPython.display import display"
   ]
  },
  {
   "cell_type": "code",
   "execution_count": 2,
   "metadata": {
    "collapsed": true,
    "urth": {
     "dashboard": {
      "hidden": true,
      "layout": {}
     }
    }
   },
   "outputs": [],
   "source": [
    "client = Client()"
   ]
  },
  {
   "cell_type": "code",
   "execution_count": 5,
   "metadata": {
    "urth": {
     "dashboard": {
      "layout": {
       "col": 0.0,
       "height": 4.0,
       "row": 6.0,
       "width": 4.0
      }
     }
    }
   },
   "outputs": [],
   "source": [
    "symbols = client.symbols()"
   ]
  },
  {
   "cell_type": "code",
   "execution_count": 12,
   "metadata": {
    "urth": {
     "dashboard": {
      "layout": {
       "col": 0.0,
       "height": 6.0,
       "row": 0.0,
       "width": 4.0
      }
     }
    }
   },
   "outputs": [
    {
     "data": {
      "text/html": [
       "<div>\n",
       "<table border=\"1\" class=\"dataframe\">\n",
       "  <thead>\n",
       "    <tr style=\"text-align: right;\">\n",
       "      <th></th>\n",
       "      <th>ask</th>\n",
       "      <th>bid</th>\n",
       "      <th>last_price</th>\n",
       "      <th>mid</th>\n",
       "      <th>timestamp</th>\n",
       "    </tr>\n",
       "  </thead>\n",
       "  <tbody>\n",
       "    <tr>\n",
       "      <th>btcusd</th>\n",
       "      <td>668.12</td>\n",
       "      <td>668.0</td>\n",
       "      <td>667.64</td>\n",
       "      <td>668.06</td>\n",
       "      <td>2016-06-30 19:03:16</td>\n",
       "    </tr>\n",
       "  </tbody>\n",
       "</table>\n",
       "</div>"
      ],
      "text/plain": [
       "           ask    bid  last_price     mid           timestamp\n",
       "btcusd  668.12  668.0      667.64  668.06 2016-06-30 19:03:16"
      ]
     },
     "metadata": {},
     "output_type": "execute_result"
    }
   ],
   "source": [
    "@interact(symbol=widgets.Dropdown(options=symbols,description=\"Select a ticker\"))\n",
    "def ticker(symbol):\n",
    "    tick = client.ticker(symbol)\n",
    "    df = pd.DataFrame(tick,index=[symbol])\n",
    "    df.timestamp = pd.to_datetime(df.timestamp, unit='s')\n",
    "    return df"
   ]
  },
  {
   "cell_type": "code",
   "execution_count": null,
   "metadata": {
    "collapsed": true
   },
   "outputs": [],
   "source": [
    ""
   ]
  },
  {
   "cell_type": "code",
   "execution_count": 22,
   "metadata": {
    "urth": {
     "dashboard": {
      "hidden": true,
      "layout": {}
     }
    }
   },
   "outputs": [
    {
     "data": {
      "text/plain": [
       "(      amount   price           timestamp\n",
       " 0   7.422500  668.66 2016-06-30 20:31:30\n",
       " 1   1.916254  668.64 2016-06-30 20:31:28\n",
       " 2   0.500000  668.62 2016-06-30 20:31:29\n",
       " 3   9.000000  668.60 2016-06-30 20:31:26\n",
       " 4  15.820658  668.58 2016-06-30 20:31:08\n",
       " 5   0.010000  668.12 2016-06-30 20:31:29\n",
       " 6   0.100000  668.01 2016-06-30 20:30:21\n",
       " 7   5.000000  667.90 2016-06-30 20:30:07\n",
       " 8   9.000000  667.83 2016-06-30 20:26:01\n",
       " 9  22.726700  667.65 2016-06-30 20:31:28,\n",
       "     amount   price           timestamp\n",
       " 0   4.2700  668.92 2016-06-30 20:31:19\n",
       " 1   7.4392  668.93 2016-06-30 20:30:28\n",
       " 2  21.7655  669.46 2016-06-30 20:31:28\n",
       " 3   6.6800  669.49 2016-06-30 20:31:14\n",
       " 4  14.6427  669.50 2016-06-30 20:30:29\n",
       " 5   5.9900  669.56 2016-06-30 20:29:41\n",
       " 6   1.7100  669.58 2016-06-30 20:31:25\n",
       " 7  32.4500  669.59 2016-06-30 20:31:24\n",
       " 8   4.1300  669.66 2016-06-30 20:22:35\n",
       " 9  14.8331  669.78 2016-06-30 20:24:50)"
      ]
     },
     "metadata": {},
     "output_type": "display_data"
    }
   ],
   "source": [
    "@interact(symbol=widgets.Dropdown(options=symbols,description=\"Select a ticker\"), n=widgets.BoundedIntText(min=1,max=100,value=10))\n",
    "def order_book(symbol, n):\n",
    "    parameters = {'limit_asks': n, 'limit_bids': n}\n",
    "    book = client.order_book(symbol, parameters)\n",
    "    bids = pd.DataFrame(book['bids'])\n",
    "    bids.timestamp = pd.to_datetime(bids.timestamp, unit='s')\n",
    "    asks = pd.DataFrame(book['asks'])\n",
    "    asks.timestamp = pd.to_datetime(asks.timestamp, unit='s')\n",
    "    return bids,asks"
   ]
  },
  {
   "cell_type": "code",
   "execution_count": 18,
   "metadata": {
    "urth": {
     "dashboard": {
      "layout": {
       "col": 8.0,
       "height": 12.0,
       "row": 0.0,
       "width": 4.0
      }
     }
    }
   },
   "outputs": [
    {
     "name": "stdout",
     "output_type": "stream",
     "text": [
      "{'bids': [{'timestamp': 1467318534.0, 'amount': 7.1692551, 'price': 667.92}, {'timestamp': 1467318361.0, 'amount': 9.0, 'price': 667.83}, {'timestamp': 1467318517.0, 'amount': 0.10579348, 'price': 667.48}, {'timestamp': 1467318389.0, 'amount': 9.0, 'price': 667.47}, {'timestamp': 1467318403.0, 'amount': 9.01, 'price': 667.41}, {'timestamp': 1467318529.0, 'amount': 0.01, 'price': 667.38}, {'timestamp': 1467318530.0, 'amount': 4.18, 'price': 667.34}, {'timestamp': 1467318529.0, 'amount': 14.6843, 'price': 667.33}, {'timestamp': 1467316358.0, 'amount': 9.0, 'price': 667.32}, {'timestamp': 1467318534.0, 'amount': 7.9058, 'price': 667.21}, {'timestamp': 1467318435.0, 'amount': 5.89, 'price': 667.2}, {'timestamp': 1467318535.0, 'amount': 20.0, 'price': 667.03}, {'timestamp': 1467315961.0, 'amount': 14.9452, 'price': 667.0}, {'timestamp': 1467318533.0, 'amount': 9.01, 'price': 666.7}, {'timestamp': 1467315936.0, 'amount': 16.8575, 'price': 666.69}, {'timestamp': 1467315761.0, 'amount': 0.01, 'price': 666.67}, {'timestamp': 1467315716.0, 'amount': 0.01, 'price': 666.51}, {'timestamp': 1467317651.0, 'amount': 4.16, 'price': 666.45}, {'timestamp': 1467318464.0, 'amount': 16.73, 'price': 666.35}, {'timestamp': 1467315685.0, 'amount': 14.9596, 'price': 666.34}], 'asks': [{'timestamp': 1467318535.0, 'amount': 7.9, 'price': 668.63}, {'timestamp': 1467318534.0, 'amount': 0.5, 'price': 668.64}, {'timestamp': 1467318534.0, 'amount': 3.0, 'price': 668.68}, {'timestamp': 1467318522.0, 'amount': 4.54, 'price': 668.69}, {'timestamp': 1467318530.0, 'amount': 0.04, 'price': 668.76}, {'timestamp': 1467318465.0, 'amount': 0.0113, 'price': 668.78}, {'timestamp': 1467318534.0, 'amount': 6.0, 'price': 668.79}, {'timestamp': 1467318465.0, 'amount': 0.0141, 'price': 668.81}, {'timestamp': 1467318535.0, 'amount': 17.2607, 'price': 668.92}, {'timestamp': 1467318535.0, 'amount': 8.27, 'price': 668.93}, {'timestamp': 1467318515.0, 'amount': 9.08, 'price': 669.14}, {'timestamp': 1467318458.0, 'amount': 16.501, 'price': 669.15}, {'timestamp': 1467318528.0, 'amount': 4.66, 'price': 669.35}, {'timestamp': 1467318528.0, 'amount': 32.94, 'price': 669.36}, {'timestamp': 1467318436.0, 'amount': 6.13, 'price': 669.37}, {'timestamp': 1467318535.0, 'amount': 8.46, 'price': 669.47}, {'timestamp': 1467318354.0, 'amount': 16.8716, 'price': 669.48}, {'timestamp': 1467318155.0, 'amount': 4.13, 'price': 669.66}, {'timestamp': 1467318290.0, 'amount': 14.8331, 'price': 669.78}, {'timestamp': 1467318352.0, 'amount': 1.0, 'price': 669.95}]}\n"
     ]
    }
   ],
   "source": [
    "parameters = {'limit_asks': 20, 'limit_bids': 20}\n",
    "\n",
    "#print(client.lendbook('btc', parameters))\n",
    "print(client.order_book('btcusd', parameters))"
   ]
  },
  {
   "cell_type": "code",
   "execution_count": null,
   "metadata": {
    "urth": {
     "dashboard": {
      "hidden": true,
      "layout": {}
     }
    }
   },
   "outputs": [],
   "source": [
    ""
   ]
  },
  {
   "cell_type": "code",
   "execution_count": null,
   "metadata": {
    "collapsed": true,
    "urth": {
     "dashboard": {
      "hidden": true,
      "layout": {}
     }
    }
   },
   "outputs": [],
   "source": [
    ""
   ]
  }
 ],
 "metadata": {
  "kernelspec": {
   "display_name": "Python 3",
   "language": "python",
   "name": "python3"
  },
  "language_info": {
   "codemirror_mode": {
    "name": "ipython",
    "version": 3
   },
   "file_extension": ".py",
   "mimetype": "text/x-python",
   "name": "python",
   "nbconvert_exporter": "python",
   "pygments_lexer": "ipython3",
   "version": "3.5.3"
  },
  "urth": {
   "dashboard": {
    "cellMargin": 10.0,
    "defaultCellHeight": 20.0,
    "layout": "grid",
    "maxColumns": 12.0
   }
  },
  "widgets": {
   "state": {
    "00f4781c53a24993a46c715a25e2e956": {
     "views": []
    },
    "02fb11b34ebe45149f2e3003a4b8c3f9": {
     "views": []
    },
    "032dfcf0f3544b889a52e0ca3b33f64e": {
     "views": []
    },
    "048f8b8403274cf58733d1dbea355f99": {
     "views": []
    },
    "053d9e9bf84143b899b10870d72db455": {
     "views": []
    },
    "0650bda4771746f7a673d0a3cb64865f": {
     "views": []
    },
    "08f76637709340048f49ab69aa7d768d": {
     "views": []
    },
    "0e82fc3864c2420d95640dd3080f4fb4": {
     "views": []
    },
    "1410bb084a3449dca84de771606b9ee9": {
     "views": []
    },
    "1854c421a3304a1bafb04876964fa125": {
     "views": []
    },
    "1af619d93a7c416bb2ea3cc5d7102389": {
     "views": []
    },
    "1e78eb2966694d55924f0e5b298708b7": {
     "views": []
    },
    "224dd4e6a3944c30a15867290e904330": {
     "views": []
    },
    "22f284bbd735444aa0b6d7ed16cf3d98": {
     "views": []
    },
    "259ade59d3204368abb43a4d683e6ed0": {
     "views": []
    },
    "2642f174c11447b2b8c8069f3816a96c": {
     "views": []
    },
    "26ee840552b44bcea33a47ee6c73af45": {
     "views": []
    },
    "2a8a3d6fde9140f6bc3be10ded537381": {
     "views": []
    },
    "2bd6f325be514b50831d26be3c4fc34f": {
     "views": []
    },
    "2cd62f5b4f9545b991f45e43cf28e785": {
     "views": []
    },
    "2e355ccfcbf74b9d99b5927531da0eb8": {
     "views": []
    },
    "3009c4d804d847ef96168bba40c2ab09": {
     "views": []
    },
    "305a7a956b754dd29e779c5d13949206": {
     "views": []
    },
    "338377b13b77477a92a3eea927fe574d": {
     "views": []
    },
    "356a52c8bf9142e2aafda6f5cbd7313e": {
     "views": []
    },
    "361100f7a55d4efdb66349a88f267245": {
     "views": []
    },
    "36940d29b94a4a5c9b55f62189824608": {
     "views": []
    },
    "37181b120ff041b5bc7bd033b198931f": {
     "views": []
    },
    "375a28750554433297012ceb5c21fd6d": {
     "views": []
    },
    "3897554d8dab4581b3705cccd4064a5e": {
     "views": []
    },
    "38e0a385d7134b28abc4602848bebbcc": {
     "views": []
    },
    "38e614fed3b74ce29555d67dc6641e8c": {
     "views": []
    },
    "3a70ee3212bf46a8936b8ecb24aefa80": {
     "views": []
    },
    "3a725167694f4f91baf6597db3374736": {
     "views": []
    },
    "3a7ce95b74ba45f7a276488c613b8f45": {
     "views": []
    },
    "3a9a6fa413dd4771bbd9d7ed05513bc1": {
     "views": []
    },
    "3b00fa83f0f04878bd985d0f81b8b7b2": {
     "views": []
    },
    "3b77d185a43042d18553110afea4787a": {
     "views": []
    },
    "3cc0529cb9934308a085e8228b8919bc": {
     "views": []
    },
    "4022d5b73c1843ccb3f0084d30b2fccb": {
     "views": []
    },
    "4338c3a42b614412aeb91313517198ba": {
     "views": []
    },
    "45dd627bee704d069832afb4c56260a1": {
     "views": []
    },
    "46ed849a0c8b465487b8975b8d477f0d": {
     "views": []
    },
    "473c8720653b4b3d8840e30d67843c18": {
     "views": []
    },
    "4aa8cb509e6f45c2950f4806025ab610": {
     "views": []
    },
    "4c84a33e100d4e3cb842944b089860f8": {
     "views": []
    },
    "4cd92a5137f740c4830e86d9885d4206": {
     "views": []
    },
    "4f48e80a568342c58121e8130f112cf9": {
     "views": []
    },
    "513ddb269c7740ae9ff6314d4c61778e": {
     "views": []
    },
    "58933c1d1a1c40f3b253c099548ab900": {
     "views": []
    },
    "5b020fec3e864361928dafb151171f9b": {
     "views": []
    },
    "5ca8496b09b74c86956741bb3ecaaba6": {
     "views": []
    },
    "60c13f8b9ef543948d3a3bd535c1109c": {
     "views": []
    },
    "6660c1c5650349abb91e3efe29363707": {
     "views": []
    },
    "66975efdaa3044b2a49c935fcd3e0092": {
     "views": []
    },
    "68ea3f351b564045a286d92b9a140992": {
     "views": [
      {
       "cell_index": 5.0
      }
     ]
    },
    "6c3657d4bba24c76acba71104ed2cbc7": {
     "views": []
    },
    "6e0f22ca203c40209fcd151edf3f8d2f": {
     "views": []
    },
    "6f132f2acc364147aceb1cbc2500f03e": {
     "views": []
    },
    "747479377f404718925ec6d9c6f8fb3d": {
     "views": []
    },
    "752372001a1e4a31921424da48279fbd": {
     "views": []
    },
    "7563c03d0dc4455aa0a714e5a1543ff7": {
     "views": []
    },
    "78cde45cbbeb471d967594fb540bb519": {
     "views": []
    },
    "7dd0f7a9566840c1916c1d6218e818e6": {
     "views": []
    },
    "7e88533073464b2baeb05b6ac06f02f8": {
     "views": []
    },
    "7fe4d7701c614f829bd28a3c6f71a690": {
     "views": []
    },
    "81b91f9222f846e8ad522d5d46a40687": {
     "views": []
    },
    "857e50d947ee493aa20c58fdc4d62d2c": {
     "views": []
    },
    "87a200fd75314b379fe5c765f8b9f7ae": {
     "views": []
    },
    "8aef42e6f46e45f5b61e5aae6d3316cf": {
     "views": []
    },
    "8d5206d3d958452daa5f2a0e138d2dae": {
     "views": [
      {
       "cell_index": 3.0
      }
     ]
    },
    "8e7cca29995b4ce2b8a8761e1ca23632": {
     "views": []
    },
    "8e9e1244ba4744bcb726bc84e7e5f956": {
     "views": []
    },
    "9021e358f6944fcaa74d46056ee4b5f3": {
     "views": []
    },
    "919460e44fa2471a8d8a23297541b43e": {
     "views": []
    },
    "9247aaf0221547cf9ecf18f3238c9421": {
     "views": []
    },
    "9251563c7ae2454a935cf53d46d541af": {
     "views": []
    },
    "95150c10e033498a9ff265803396ac2a": {
     "views": []
    },
    "9649ef37533041338d6050b344c0e7f8": {
     "views": []
    },
    "972ff65276c544b5906d3ad43cabeea7": {
     "views": []
    },
    "99d80bacb1e84d959a81b1f3855f3642": {
     "views": []
    },
    "9fcd0beb13da46faabba2cd529b0d1fe": {
     "views": []
    },
    "a0258c1472eb48a68cbe41206ce583c3": {
     "views": []
    },
    "a0e68d2e28af4652bd52fc9489495f32": {
     "views": []
    },
    "ae23e2cecade4cac9c112f89269d01f5": {
     "views": []
    },
    "b53bfd5f18af4c039c253f99ade784ab": {
     "views": []
    },
    "b73b8ea2c5364e48b0810db57efd4248": {
     "views": []
    },
    "b789af2a81ec4fd39edf3bc044091326": {
     "views": []
    },
    "b908da948b83439a9fd67b1b15c138b5": {
     "views": []
    },
    "bb8cdce10d064040af692abd7657f297": {
     "views": []
    },
    "bba51fc1b48f44ef8e94f6b98c4c7c2d": {
     "views": []
    },
    "bf3d40e94a3542c79ed5be07f9e9300f": {
     "views": []
    },
    "c3a5d266505e445ead0fb6b8b132f6e7": {
     "views": []
    },
    "c8ded1b2a36c4479ab118b620f394f43": {
     "views": []
    },
    "ca54da36b9474cff8de9d29f6a9ead8c": {
     "views": []
    },
    "ca652b76eb78481e8500ae3a0b44b7b2": {
     "views": []
    },
    "ca77db5415404d55a35b525e3f53754d": {
     "views": []
    },
    "cd86dc5588974913a7446c378107c03a": {
     "views": []
    },
    "cd99af83f1ff4256b16fa67634cbb498": {
     "views": []
    },
    "ce2ad2fbfec14ddfab12dfdd8f4e9973": {
     "views": []
    },
    "cea779e31ec240d99d310b37148d40ed": {
     "views": []
    },
    "cfd0f999a23a4bd0859827e0f552a299": {
     "views": []
    },
    "d345b831a9ed4ec0a528ae189216c7eb": {
     "views": []
    },
    "d4b68bb0fe194cd8b394ab6f18c79647": {
     "views": []
    },
    "dd041f1e67db4bdca4a2251a012eca6f": {
     "views": []
    },
    "de9edb9882fa48f7a995247477c6be42": {
     "views": []
    },
    "df29fdd9e8e04a0a8618d4557840c673": {
     "views": []
    },
    "df5eb204f26242c7b2ec0c4b31378a05": {
     "views": []
    },
    "e1dfc1d78954427e942eace3048fffec": {
     "views": []
    },
    "e28284eecb6442099c75f73c1fcd54cd": {
     "views": []
    },
    "e37097cc70654286ba303fac047bca9a": {
     "views": []
    },
    "e4ef9f7ef4584267accb35f98b3ae0ca": {
     "views": []
    },
    "ea903c15f7d44d4ebda7ff5a442c9475": {
     "views": []
    },
    "eb6c09615cb549fb8808b25e0491e223": {
     "views": []
    },
    "ecf521d359ac4f06bb5dfcc498abc405": {
     "views": []
    },
    "edb08229a19647d5bb1cf830008edc36": {
     "views": []
    },
    "ef90cc9339b94338827498a70c4501ea": {
     "views": []
    },
    "efc430c7dc87429c8ee9b69948b1f236": {
     "views": []
    },
    "f16c7877e9e14a48b86b66e84f230c70": {
     "views": []
    },
    "f93034c2f3224512a71c93f9dd4a726a": {
     "views": []
    }
   },
   "version": "1.1.2"
  }
 },
 "nbformat": 4,
 "nbformat_minor": 0
}
