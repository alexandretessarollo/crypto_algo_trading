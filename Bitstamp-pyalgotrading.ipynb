{
 "cells": [
  {
   "cell_type": "code",
   "execution_count": 1,
   "metadata": {
    "collapsed": false
   },
   "outputs": [
    {
     "ename": "SyntaxError",
     "evalue": "invalid syntax (livefeed.py, line 137)",
     "output_type": "error",
     "traceback": [
      "\u001b[1;36m  File \u001b[1;32m\"/usr/local/lib/python3.4/dist-packages/pyalgotrade/bitstamp/livefeed.py\"\u001b[1;36m, line \u001b[1;32m137\u001b[0m\n\u001b[1;33m    except Exception, e:\u001b[0m\n\u001b[1;37m                    ^\u001b[0m\n\u001b[1;31mSyntaxError\u001b[0m\u001b[1;31m:\u001b[0m invalid syntax\n"
     ]
    }
   ],
   "source": [
    "import matplotlib\n",
    "matplotlib.use('Agg')\n",
    "from pyalgotrade.bitstamp import barfeed\n",
    "from pyalgotrade.bitstamp import broker\n",
    "from pyalgotrade import strategy\n",
    "from pyalgotrade.technical import ma\n",
    "from pyalgotrade.technical import cross"
   ]
  },
  {
   "cell_type": "code",
   "execution_count": 2,
   "metadata": {
    "collapsed": false
   },
   "outputs": [
    {
     "ename": "NameError",
     "evalue": "name 'strategy' is not defined",
     "output_type": "error",
     "traceback": [
      "\u001b[1;31m---------------------------------------------------------------------------\u001b[0m",
      "\u001b[1;31mNameError\u001b[0m                                 Traceback (most recent call last)",
      "\u001b[1;32m<ipython-input-2-b21c96bab7a0>\u001b[0m in \u001b[0;36m<module>\u001b[1;34m()\u001b[0m\n\u001b[1;32m----> 1\u001b[1;33m \u001b[1;32mclass\u001b[0m \u001b[0mStrategy\u001b[0m\u001b[1;33m(\u001b[0m\u001b[0mstrategy\u001b[0m\u001b[1;33m.\u001b[0m\u001b[0mBaseStrategy\u001b[0m\u001b[1;33m)\u001b[0m\u001b[1;33m:\u001b[0m\u001b[1;33m\u001b[0m\u001b[0m\n\u001b[0m\u001b[0;32m      2\u001b[0m     \u001b[1;32mdef\u001b[0m \u001b[0m__init__\u001b[0m\u001b[1;33m(\u001b[0m\u001b[0mself\u001b[0m\u001b[1;33m,\u001b[0m \u001b[0mfeed\u001b[0m\u001b[1;33m,\u001b[0m \u001b[0mbrk\u001b[0m\u001b[1;33m)\u001b[0m\u001b[1;33m:\u001b[0m\u001b[1;33m\u001b[0m\u001b[0m\n\u001b[0;32m      3\u001b[0m         \u001b[0mstrategy\u001b[0m\u001b[1;33m.\u001b[0m\u001b[0mBaseStrategy\u001b[0m\u001b[1;33m.\u001b[0m\u001b[0m__init__\u001b[0m\u001b[1;33m(\u001b[0m\u001b[0mself\u001b[0m\u001b[1;33m,\u001b[0m \u001b[0mfeed\u001b[0m\u001b[1;33m,\u001b[0m \u001b[0mbrk\u001b[0m\u001b[1;33m)\u001b[0m\u001b[1;33m\u001b[0m\u001b[0m\n\u001b[0;32m      4\u001b[0m         \u001b[0msmaPeriod\u001b[0m \u001b[1;33m=\u001b[0m \u001b[1;36m20\u001b[0m\u001b[1;33m\u001b[0m\u001b[0m\n\u001b[0;32m      5\u001b[0m         \u001b[0mself\u001b[0m\u001b[1;33m.\u001b[0m\u001b[0m__instrument\u001b[0m \u001b[1;33m=\u001b[0m \u001b[1;34m\"BTC\"\u001b[0m\u001b[1;33m\u001b[0m\u001b[0m\n",
      "\u001b[1;31mNameError\u001b[0m: name 'strategy' is not defined"
     ]
    }
   ],
   "source": [
    "class Strategy(strategy.BaseStrategy):\n",
    "    def __init__(self, feed, brk):\n",
    "        strategy.BaseStrategy.__init__(self, feed, brk)\n",
    "        smaPeriod = 20\n",
    "        self.__instrument = \"BTC\"\n",
    "        self.__prices = feed[self.__instrument].getCloseDataSeries()\n",
    "        self.__sma = ma.SMA(self.__prices, smaPeriod)\n",
    "        self.__bid = None\n",
    "        self.__ask = None\n",
    "        self.__position = None\n",
    "        self.__posSize = 0.05\n",
    "\n",
    "        # Subscribe to order book update events to get bid/ask prices to trade.\n",
    "        feed.getOrderBookUpdateEvent().subscribe(self.__onOrderBookUpdate)\n",
    "\n",
    "    def __onOrderBookUpdate(self, orderBookUpdate):\n",
    "        bid = orderBookUpdate.getBidPrices()[0]\n",
    "        ask = orderBookUpdate.getAskPrices()[0]\n",
    "\n",
    "        if bid != self.__bid or ask != self.__ask:\n",
    "            self.__bid = bid\n",
    "            self.__ask = ask\n",
    "            self.info(\"Order book updated. Best bid: %s. Best ask: %s\" % (self.__bid, self.__ask))\n",
    "\n",
    "    def onEnterOk(self, position):\n",
    "        self.info(\"Position opened at %s\" % (position.getEntryOrder().getExecutionInfo().getPrice()))\n",
    "\n",
    "    def onEnterCanceled(self, position):\n",
    "        self.info(\"Position entry canceled\")\n",
    "        self.__position = None\n",
    "\n",
    "    def onExitOk(self, position):\n",
    "        self.__position = None\n",
    "        self.info(\"Position closed at %s\" % (position.getExitOrder().getExecutionInfo().getPrice()))\n",
    "\n",
    "    def onExitCanceled(self, position):\n",
    "        # If the exit was canceled, re-submit it.\n",
    "        self.__position.exitLimit(self.__bid)\n",
    "\n",
    "    def onBars(self, bars):\n",
    "        bar = bars[self.__instrument]\n",
    "        self.info(\"Price: %s. Volume: %s.\" % (bar.getClose(), bar.getVolume()))\n",
    "\n",
    "        # Wait until we get the current bid/ask prices.\n",
    "        if self.__ask is None:\n",
    "            return\n",
    "\n",
    "        # If a position was not opened, check if we should enter a long position.\n",
    "        if self.__position is None:\n",
    "            if cross.cross_above(self.__prices, self.__sma) > 0:\n",
    "                self.info(\"Entry signal. Buy at %s\" % (self.__ask))\n",
    "                self.__position = self.enterLongLimit(self.__instrument, self.__ask, self.__posSize, True)\n",
    "        # Check if we have to close the position.\n",
    "        elif not self.__position.exitActive() and cross.cross_below(self.__prices, self.__sma) > 0:\n",
    "            self.info(\"Exit signal. Sell at %s\" % (self.__bid))\n",
    "            self.__position.exitLimit(self.__bid)\n"
   ]
  },
  {
   "cell_type": "code",
   "execution_count": 3,
   "metadata": {
    "collapsed": false
   },
   "outputs": [
    {
     "ename": "NameError",
     "evalue": "name 'barfeed' is not defined",
     "output_type": "error",
     "traceback": [
      "\u001b[1;31m---------------------------------------------------------------------------\u001b[0m",
      "\u001b[1;31mNameError\u001b[0m                                 Traceback (most recent call last)",
      "\u001b[1;32m<ipython-input-3-201a2020ad9f>\u001b[0m in \u001b[0;36m<module>\u001b[1;34m()\u001b[0m\n\u001b[1;32m----> 1\u001b[1;33m \u001b[0mbarFeed\u001b[0m \u001b[1;33m=\u001b[0m \u001b[0mbarfeed\u001b[0m\u001b[1;33m.\u001b[0m\u001b[0mLiveTradeFeed\u001b[0m\u001b[1;33m(\u001b[0m\u001b[1;33m)\u001b[0m\u001b[1;33m\u001b[0m\u001b[0m\n\u001b[0m\u001b[0;32m      2\u001b[0m \u001b[0mbrk\u001b[0m \u001b[1;33m=\u001b[0m \u001b[0mbroker\u001b[0m\u001b[1;33m.\u001b[0m\u001b[0mPaperTradingBroker\u001b[0m\u001b[1;33m(\u001b[0m\u001b[1;36m1000\u001b[0m\u001b[1;33m,\u001b[0m \u001b[0mbarFeed\u001b[0m\u001b[1;33m)\u001b[0m\u001b[1;33m\u001b[0m\u001b[0m\n\u001b[0;32m      3\u001b[0m \u001b[0mstrat\u001b[0m \u001b[1;33m=\u001b[0m \u001b[0mStrategy\u001b[0m\u001b[1;33m(\u001b[0m\u001b[0mbarFeed\u001b[0m\u001b[1;33m,\u001b[0m \u001b[0mbrk\u001b[0m\u001b[1;33m)\u001b[0m\u001b[1;33m\u001b[0m\u001b[0m\n\u001b[0;32m      4\u001b[0m \u001b[1;33m\u001b[0m\u001b[0m\n\u001b[0;32m      5\u001b[0m \u001b[0mstrat\u001b[0m\u001b[1;33m.\u001b[0m\u001b[0mrun\u001b[0m\u001b[1;33m(\u001b[0m\u001b[1;33m)\u001b[0m\u001b[1;33m\u001b[0m\u001b[0m\n",
      "\u001b[1;31mNameError\u001b[0m: name 'barfeed' is not defined"
     ]
    }
   ],
   "source": [
    "barFeed = barfeed.LiveTradeFeed()\n",
    "brk = broker.PaperTradingBroker(1000, barFeed)\n",
    "strat = Strategy(barFeed, brk)\n",
    "\n",
    "strat.run()"
   ]
  },
  {
   "cell_type": "markdown",
   "metadata": {},
   "source": [
    "Charting\n",
    "---------"
   ]
  },
  {
   "cell_type": "code",
   "execution_count": 6,
   "metadata": {
    "collapsed": false
   },
   "outputs": [
    {
     "name": "stdout",
     "output_type": "stream",
     "text": [
      "Populating the interactive namespace from numpy and matplotlib\n"
     ]
    },
    {
     "name": "stderr",
     "output_type": "stream",
     "text": [
      "WARNING: pylab import has clobbered these variables: ['bar']\n",
      "`%matplotlib` prevents importing * from pylab and numpy\n"
     ]
    }
   ],
   "source": [
    "from pyalgotrade.bitcoincharts import barfeed\n",
    "from pyalgotrade.tools import resample\n",
    "from pyalgotrade import bar\n",
    "import pandas as pd\n",
    "import datetime\n",
    "%pylab inline"
   ]
  },
  {
   "cell_type": "markdown",
   "metadata": {},
   "source": [
    "Downloading the ANX exchange series"
   ]
  },
  {
   "cell_type": "code",
   "execution_count": 3,
   "metadata": {
    "collapsed": false
   },
   "outputs": [],
   "source": [
    "fromtimestamp = lambda x:datetime.datetime.fromtimestamp(int(x))\n",
    "# df = pd.read_csv('http://api.bitcoincharts.com/v1/csv/anxhkUSD.csv.gz', sep=',', header=None)\n",
    "\n",
    "df = pd.read_csv('anxhkUSD.csv.gz', sep=',', header=None, converters={0: fromtimestamp}, index_col=0)"
   ]
  },
  {
   "cell_type": "code",
   "execution_count": 4,
   "metadata": {
    "collapsed": false
   },
   "outputs": [],
   "source": [
    "df.to_csv('anxhkUSD.csv')"
   ]
  },
  {
   "cell_type": "code",
   "execution_count": 7,
   "metadata": {
    "collapsed": false
   },
   "outputs": [
    {
     "data": {
      "text/plain": [
       "<matplotlib.axes._subplots.AxesSubplot at 0x7ff12e621320>"
      ]
     },
     "execution_count": 7,
     "metadata": {},
     "output_type": "execute_result"
    },
    {
     "data": {
      "image/png": "[encoded data removed]",
      "text/plain": [
       "<matplotlib.figure.Figure at 0x7ff12a4f0978>"
      ]
     },
     "metadata": {},
     "output_type": "display_data"
    }
   ],
   "source": [
    "df.plot();"
   ]
  },
  {
   "cell_type": "code",
   "execution_count": 32,
   "metadata": {
    "collapsed": false
   },
   "outputs": [
    {
     "ename": "TypeError",
     "evalue": "iter() returned non-iterator of type 'FastDictReader'",
     "output_type": "error",
     "traceback": [
      "\u001b[1;31m---------------------------------------------------------------------------\u001b[0m",
      "\u001b[1;31mTypeError\u001b[0m                                 Traceback (most recent call last)",
      "\u001b[1;32m<ipython-input-32-13061ae0f72b>\u001b[0m in \u001b[0;36m<module>\u001b[1;34m()\u001b[0m\n\u001b[0;32m      1\u001b[0m \u001b[0mbarFeed\u001b[0m \u001b[1;33m=\u001b[0m \u001b[0mbarfeed\u001b[0m\u001b[1;33m.\u001b[0m\u001b[0mCSVTradeFeed\u001b[0m\u001b[1;33m(\u001b[0m\u001b[1;33m)\u001b[0m\u001b[1;33m\u001b[0m\u001b[0m\n\u001b[1;32m----> 2\u001b[1;33m \u001b[0mbarFeed\u001b[0m\u001b[1;33m.\u001b[0m\u001b[0maddBarsFromCSV\u001b[0m\u001b[1;33m(\u001b[0m\u001b[1;34m\"anxhkUSD.csv\"\u001b[0m\u001b[1;33m,\u001b[0m \u001b[0mfromDateTime\u001b[0m\u001b[1;33m=\u001b[0m\u001b[0mdatetime\u001b[0m\u001b[1;33m.\u001b[0m\u001b[0mdatetime\u001b[0m\u001b[1;33m(\u001b[0m\u001b[1;36m2014\u001b[0m\u001b[1;33m,\u001b[0m \u001b[1;36m1\u001b[0m\u001b[1;33m,\u001b[0m \u001b[1;36m1\u001b[0m\u001b[1;33m)\u001b[0m\u001b[1;33m)\u001b[0m\u001b[1;33m\u001b[0m\u001b[0m\n\u001b[0m\u001b[0;32m      3\u001b[0m \u001b[0mresample\u001b[0m\u001b[1;33m.\u001b[0m\u001b[0mresample_to_csv\u001b[0m\u001b[1;33m(\u001b[0m\u001b[0mbarFeed\u001b[0m\u001b[1;33m,\u001b[0m \u001b[0mbar\u001b[0m\u001b[1;33m.\u001b[0m\u001b[0mFrequency\u001b[0m\u001b[1;33m.\u001b[0m\u001b[0mMINUTE\u001b[0m\u001b[1;33m*\u001b[0m\u001b[1;36m30\u001b[0m\u001b[1;33m,\u001b[0m \u001b[1;34m\"30min-anxhkUSD.csv\"\u001b[0m\u001b[1;33m)\u001b[0m\u001b[1;33m\u001b[0m\u001b[0m\n",
      "\u001b[1;32m/usr/local/lib/python3.4/dist-packages/pyalgotrade/bitcoincharts/barfeed.py\u001b[0m in \u001b[0;36maddBarsFromCSV\u001b[1;34m(self, path, instrument, timezone, fromDateTime, toDateTime)\u001b[0m\n\u001b[0;32m    184\u001b[0m             \u001b[1;32mif\u001b[0m \u001b[0mfromDateTime\u001b[0m \u001b[1;32mor\u001b[0m \u001b[0mtoDateTime\u001b[0m\u001b[1;33m:\u001b[0m\u001b[1;33m\u001b[0m\u001b[0m\n\u001b[0;32m    185\u001b[0m                 \u001b[0mself\u001b[0m\u001b[1;33m.\u001b[0m\u001b[0msetBarFilter\u001b[0m\u001b[1;33m(\u001b[0m\u001b[0mcsvfeed\u001b[0m\u001b[1;33m.\u001b[0m\u001b[0mDateRangeFilter\u001b[0m\u001b[1;33m(\u001b[0m\u001b[0mto_utc_if_naive\u001b[0m\u001b[1;33m(\u001b[0m\u001b[0mfromDateTime\u001b[0m\u001b[1;33m)\u001b[0m\u001b[1;33m,\u001b[0m \u001b[0mto_utc_if_naive\u001b[0m\u001b[1;33m(\u001b[0m\u001b[0mtoDateTime\u001b[0m\u001b[1;33m)\u001b[0m\u001b[1;33m)\u001b[0m\u001b[1;33m)\u001b[0m\u001b[1;33m\u001b[0m\u001b[0m\n\u001b[1;32m--> 186\u001b[1;33m             \u001b[0mcsvfeed\u001b[0m\u001b[1;33m.\u001b[0m\u001b[0mBarFeed\u001b[0m\u001b[1;33m.\u001b[0m\u001b[0maddBarsFromCSV\u001b[0m\u001b[1;33m(\u001b[0m\u001b[0mself\u001b[0m\u001b[1;33m,\u001b[0m \u001b[0minstrument\u001b[0m\u001b[1;33m,\u001b[0m \u001b[0mpath\u001b[0m\u001b[1;33m,\u001b[0m \u001b[0mrowParser\u001b[0m\u001b[1;33m)\u001b[0m\u001b[1;33m\u001b[0m\u001b[0m\n\u001b[0m\u001b[0;32m    187\u001b[0m         \u001b[1;32mfinally\u001b[0m\u001b[1;33m:\u001b[0m\u001b[1;33m\u001b[0m\u001b[0m\n\u001b[0;32m    188\u001b[0m             \u001b[0mself\u001b[0m\u001b[1;33m.\u001b[0m\u001b[0msetBarFilter\u001b[0m\u001b[1;33m(\u001b[0m\u001b[0mprevBarFilter\u001b[0m\u001b[1;33m)\u001b[0m\u001b[1;33m\u001b[0m\u001b[0m\n",
      "\u001b[1;32m/usr/local/lib/python3.4/dist-packages/pyalgotrade/barfeed/csvfeed.py\u001b[0m in \u001b[0;36maddBarsFromCSV\u001b[1;34m(self, instrument, path, rowParser)\u001b[0m\n\u001b[0;32m    117\u001b[0m         \u001b[0mloadedBars\u001b[0m \u001b[1;33m=\u001b[0m \u001b[1;33m[\u001b[0m\u001b[1;33m]\u001b[0m\u001b[1;33m\u001b[0m\u001b[0m\n\u001b[0;32m    118\u001b[0m         \u001b[0mreader\u001b[0m \u001b[1;33m=\u001b[0m \u001b[0mcsvutils\u001b[0m\u001b[1;33m.\u001b[0m\u001b[0mFastDictReader\u001b[0m\u001b[1;33m(\u001b[0m\u001b[0mopen\u001b[0m\u001b[1;33m(\u001b[0m\u001b[0mpath\u001b[0m\u001b[1;33m,\u001b[0m \u001b[1;34m\"r\"\u001b[0m\u001b[1;33m)\u001b[0m\u001b[1;33m,\u001b[0m \u001b[0mfieldnames\u001b[0m\u001b[1;33m=\u001b[0m\u001b[0mrowParser\u001b[0m\u001b[1;33m.\u001b[0m\u001b[0mgetFieldNames\u001b[0m\u001b[1;33m(\u001b[0m\u001b[1;33m)\u001b[0m\u001b[1;33m,\u001b[0m \u001b[0mdelimiter\u001b[0m\u001b[1;33m=\u001b[0m\u001b[0mrowParser\u001b[0m\u001b[1;33m.\u001b[0m\u001b[0mgetDelimiter\u001b[0m\u001b[1;33m(\u001b[0m\u001b[1;33m)\u001b[0m\u001b[1;33m)\u001b[0m\u001b[1;33m\u001b[0m\u001b[0m\n\u001b[1;32m--> 119\u001b[1;33m         \u001b[1;32mfor\u001b[0m \u001b[0mrow\u001b[0m \u001b[1;32min\u001b[0m \u001b[0mreader\u001b[0m\u001b[1;33m:\u001b[0m\u001b[1;33m\u001b[0m\u001b[0m\n\u001b[0m\u001b[0;32m    120\u001b[0m             \u001b[0mbar_\u001b[0m \u001b[1;33m=\u001b[0m \u001b[0mrowParser\u001b[0m\u001b[1;33m.\u001b[0m\u001b[0mparseBar\u001b[0m\u001b[1;33m(\u001b[0m\u001b[0mrow\u001b[0m\u001b[1;33m)\u001b[0m\u001b[1;33m\u001b[0m\u001b[0m\n\u001b[0;32m    121\u001b[0m             \u001b[1;32mif\u001b[0m \u001b[0mbar_\u001b[0m \u001b[1;32mis\u001b[0m \u001b[1;32mnot\u001b[0m \u001b[1;32mNone\u001b[0m \u001b[1;32mand\u001b[0m \u001b[1;33m(\u001b[0m\u001b[0mself\u001b[0m\u001b[1;33m.\u001b[0m\u001b[0m__barFilter\u001b[0m \u001b[1;32mis\u001b[0m \u001b[1;32mNone\u001b[0m \u001b[1;32mor\u001b[0m \u001b[0mself\u001b[0m\u001b[1;33m.\u001b[0m\u001b[0m__barFilter\u001b[0m\u001b[1;33m.\u001b[0m\u001b[0mincludeBar\u001b[0m\u001b[1;33m(\u001b[0m\u001b[0mbar_\u001b[0m\u001b[1;33m)\u001b[0m\u001b[1;33m)\u001b[0m\u001b[1;33m:\u001b[0m\u001b[1;33m\u001b[0m\u001b[0m\n",
      "\u001b[1;31mTypeError\u001b[0m: iter() returned non-iterator of type 'FastDictReader'"
     ]
    }
   ],
   "source": [
    "barFeed = barfeed.CSVTradeFeed()\n",
    "barFeed.addBarsFromCSV(\"anxhkUSD.csv\", fromDateTime=datetime.datetime(2014, 1, 1))\n",
    "resample.resample_to_csv(barFeed, bar.Frequency.MINUTE*30, \"30min-anxhkUSD.csv\")"
   ]
  },
  {
   "cell_type": "code",
   "execution_count": 34,
   "metadata": {
    "collapsed": false
   },
   "outputs": [
    {
     "ename": "ImportError",
     "evalue": "No module named 'slippage'",
     "output_type": "error",
     "traceback": [
      "\u001b[1;31m---------------------------------------------------------------------------\u001b[0m",
      "\u001b[1;31mImportError\u001b[0m                               Traceback (most recent call last)",
      "\u001b[1;32m<ipython-input-34-1047a9017b97>\u001b[0m in \u001b[0;36m<module>\u001b[1;34m()\u001b[0m\n\u001b[0;32m      1\u001b[0m \u001b[1;32mfrom\u001b[0m \u001b[0mpyalgotrade\u001b[0m \u001b[1;32mimport\u001b[0m \u001b[0mbar\u001b[0m\u001b[1;33m\u001b[0m\u001b[0m\n\u001b[1;32m----> 2\u001b[1;33m \u001b[1;32mfrom\u001b[0m \u001b[0mpyalgotrade\u001b[0m \u001b[1;32mimport\u001b[0m \u001b[0mstrategy\u001b[0m\u001b[1;33m\u001b[0m\u001b[0m\n\u001b[0m\u001b[0;32m      3\u001b[0m \u001b[1;32mfrom\u001b[0m \u001b[0mpyalgotrade\u001b[0m \u001b[1;32mimport\u001b[0m \u001b[0mplotter\u001b[0m\u001b[1;33m\u001b[0m\u001b[0m\n\u001b[0;32m      4\u001b[0m \u001b[1;32mfrom\u001b[0m \u001b[0mpyalgotrade\u001b[0m\u001b[1;33m.\u001b[0m\u001b[0mtechnical\u001b[0m \u001b[1;32mimport\u001b[0m \u001b[0mvwap\u001b[0m\u001b[1;33m\u001b[0m\u001b[0m\n\u001b[0;32m      5\u001b[0m \u001b[1;32mfrom\u001b[0m \u001b[0mpyalgotrade\u001b[0m\u001b[1;33m.\u001b[0m\u001b[0mbarfeed\u001b[0m \u001b[1;32mimport\u001b[0m \u001b[0mcsvfeed\u001b[0m\u001b[1;33m\u001b[0m\u001b[0m\n",
      "\u001b[1;32m/usr/local/lib/python3.4/dist-packages/pyalgotrade/strategy/__init__.py\u001b[0m in \u001b[0;36m<module>\u001b[1;34m()\u001b[0m\n\u001b[0;32m     23\u001b[0m \u001b[1;33m\u001b[0m\u001b[0m\n\u001b[0;32m     24\u001b[0m \u001b[1;32mimport\u001b[0m \u001b[0mpyalgotrade\u001b[0m\u001b[1;33m.\u001b[0m\u001b[0mbroker\u001b[0m\u001b[1;33m\u001b[0m\u001b[0m\n\u001b[1;32m---> 25\u001b[1;33m \u001b[1;32mfrom\u001b[0m \u001b[0mpyalgotrade\u001b[0m\u001b[1;33m.\u001b[0m\u001b[0mbroker\u001b[0m \u001b[1;32mimport\u001b[0m \u001b[0mbacktesting\u001b[0m\u001b[1;33m\u001b[0m\u001b[0m\n\u001b[0m\u001b[0;32m     26\u001b[0m \u001b[1;32mfrom\u001b[0m \u001b[0mpyalgotrade\u001b[0m \u001b[1;32mimport\u001b[0m \u001b[0mobserver\u001b[0m\u001b[1;33m\u001b[0m\u001b[0m\n\u001b[0;32m     27\u001b[0m \u001b[1;32mfrom\u001b[0m \u001b[0mpyalgotrade\u001b[0m \u001b[1;32mimport\u001b[0m \u001b[0mdispatcher\u001b[0m\u001b[1;33m\u001b[0m\u001b[0m\n",
      "\u001b[1;32m/usr/local/lib/python3.4/dist-packages/pyalgotrade/broker/backtesting.py\u001b[0m in \u001b[0;36m<module>\u001b[1;34m()\u001b[0m\n\u001b[0;32m     22\u001b[0m \u001b[1;33m\u001b[0m\u001b[0m\n\u001b[0;32m     23\u001b[0m \u001b[1;32mfrom\u001b[0m \u001b[0mpyalgotrade\u001b[0m \u001b[1;32mimport\u001b[0m \u001b[0mbroker\u001b[0m\u001b[1;33m\u001b[0m\u001b[0m\n\u001b[1;32m---> 24\u001b[1;33m \u001b[1;32mfrom\u001b[0m \u001b[0mpyalgotrade\u001b[0m\u001b[1;33m.\u001b[0m\u001b[0mbroker\u001b[0m \u001b[1;32mimport\u001b[0m \u001b[0mfillstrategy\u001b[0m\u001b[1;33m\u001b[0m\u001b[0m\n\u001b[0m\u001b[0;32m     25\u001b[0m \u001b[1;32mfrom\u001b[0m \u001b[0mpyalgotrade\u001b[0m \u001b[1;32mimport\u001b[0m \u001b[0mwarninghelpers\u001b[0m\u001b[1;33m\u001b[0m\u001b[0m\n\u001b[0;32m     26\u001b[0m \u001b[1;32mfrom\u001b[0m \u001b[0mpyalgotrade\u001b[0m \u001b[1;32mimport\u001b[0m \u001b[0mlogger\u001b[0m\u001b[1;33m\u001b[0m\u001b[0m\n",
      "\u001b[1;32m/usr/local/lib/python3.4/dist-packages/pyalgotrade/broker/fillstrategy.py\u001b[0m in \u001b[0;36m<module>\u001b[1;34m()\u001b[0m\n\u001b[0;32m     23\u001b[0m \u001b[1;32mfrom\u001b[0m \u001b[0mpyalgotrade\u001b[0m \u001b[1;32mimport\u001b[0m \u001b[0mbroker\u001b[0m\u001b[1;33m\u001b[0m\u001b[0m\n\u001b[0;32m     24\u001b[0m \u001b[1;32mimport\u001b[0m \u001b[0mpyalgotrade\u001b[0m\u001b[1;33m.\u001b[0m\u001b[0mbar\u001b[0m\u001b[1;33m\u001b[0m\u001b[0m\n\u001b[1;32m---> 25\u001b[1;33m \u001b[1;32mimport\u001b[0m \u001b[0mslippage\u001b[0m\u001b[1;33m\u001b[0m\u001b[0m\n\u001b[0m\u001b[0;32m     26\u001b[0m \u001b[1;33m\u001b[0m\u001b[0m\n\u001b[0;32m     27\u001b[0m \u001b[1;33m\u001b[0m\u001b[0m\n",
      "\u001b[1;31mImportError\u001b[0m: No module named 'slippage'"
     ]
    }
   ],
   "source": [
    "from pyalgotrade import bar\n",
    "from pyalgotrade import strategy\n",
    "from pyalgotrade import plotter\n",
    "from pyalgotrade.technical import vwap\n",
    "from pyalgotrade.barfeed import csvfeed\n",
    "from pyalgotrade.bitstamp import broker\n",
    "from pyalgotrade import broker as basebroker\n",
    "\n",
    "\n",
    "class VWAPMomentum(strategy.BacktestingStrategy):\n",
    "    MIN_TRADE = 5\n",
    "\n",
    "    def __init__(self, feed, brk, instrument, vwapWindowSize, buyThreshold, sellThreshold):\n",
    "        strategy.BacktestingStrategy.__init__(self, feed, brk)\n",
    "        self.__instrument = instrument\n",
    "        self.__vwap = vwap.VWAP(feed[instrument], vwapWindowSize)\n",
    "        self.__buyThreshold = buyThreshold\n",
    "        self.__sellThreshold = sellThreshold\n",
    "\n",
    "    def _getActiveOrders(self):\n",
    "        orders = self.getBroker().getActiveOrders()\n",
    "        buy = filter(lambda o: o.isBuy(), orders)\n",
    "        sell = filter(lambda o: o.isSell(), orders)\n",
    "        return buy, sell\n",
    "\n",
    "    def _cancelOrders(self, orders):\n",
    "        brk = self.getBroker()\n",
    "        for o in orders:\n",
    "            self.info(\"Canceling order %s\" % (o.getId()))\n",
    "            brk.cancelOrder(o)\n",
    "\n",
    "    def _buySignal(self, price):\n",
    "        buyOrders, sellOrders = self._getActiveOrders()\n",
    "        self._cancelOrders(sellOrders)\n",
    "\n",
    "        brk = self.getBroker()\n",
    "        cashAvail = brk.getCash() * 0.98\n",
    "        size = round(cashAvail / price, 3)\n",
    "        if len(buyOrders) == 0 and price*size > VWAPMomentum.MIN_TRADE:\n",
    "            self.info(\"Buy %s at %s\" % (size, price))\n",
    "            try:\n",
    "                self.limitOrder(self.__instrument, price, size)\n",
    "            except Exception as e:\n",
    "                self.error(\"Failed to buy: %s\" % (e))\n",
    "\n",
    "    def _sellSignal(self, price):\n",
    "        buyOrders, sellOrders = self._getActiveOrders()\n",
    "        self._cancelOrders(buyOrders)\n",
    "\n",
    "        brk = self.getBroker()\n",
    "        shares = brk.getShares(self.__instrument)\n",
    "        if len(sellOrders) == 0 and shares > 0:\n",
    "            self.info(\"Sell %s at %s\" % (shares, price))\n",
    "            self.limitOrder(self.__instrument, price, shares*-1)\n",
    "\n",
    "    def getVWAP(self):\n",
    "        return self.__vwap\n",
    "\n",
    "    def onBars(self, bars):\n",
    "        vwap = self.__vwap[-1]\n",
    "        if vwap is None:\n",
    "            return\n",
    "\n",
    "        price = bars[self.__instrument].getClose()\n",
    "        if price > vwap * (1 + self.__buyThreshold):\n",
    "            self._buySignal(price)\n",
    "        elif price < vwap * (1 - self.__sellThreshold):\n",
    "            self._sellSignal(price)\n",
    "\n",
    "    def onOrderUpdated(self, order):\n",
    "        if order.isBuy():\n",
    "            orderType = \"Buy\"\n",
    "        else:\n",
    "            orderType = \"Sell\"\n",
    "        self.info(\"%s order %d updated - Status: %s - %s\" % (\n",
    "            orderType,\n",
    "            order.getId(),\n",
    "            basebroker.Order.State.toString(order.getState()),\n",
    "            order.getExecutionInfo(),\n",
    "        ))"
   ]
  },
  {
   "cell_type": "code",
   "execution_count": null,
   "metadata": {
    "collapsed": true
   },
   "outputs": [],
   "source": [
    "def main(plot):\n",
    "    instrument = \"BTC\"\n",
    "    initialCash = 1000\n",
    "    vwapWindowSize = 100\n",
    "    buyThreshold = 0.02\n",
    "    sellThreshold = 0.01\n",
    "\n",
    "    barFeed = csvfeed.GenericBarFeed(bar.Frequency.MINUTE*30)\n",
    "    barFeed.addBarsFromCSV(instrument, \"30min-bitstampUSD.csv\")\n",
    "    brk = broker.BacktestingBroker(initialCash, barFeed)\n",
    "    strat = VWAPMomentum(barFeed, brk, instrument, vwapWindowSize, buyThreshold, sellThreshold)\n",
    "\n",
    "    if plot:\n",
    "        plt = plotter.StrategyPlotter(strat)\n",
    "        plt.getInstrumentSubplot(instrument).addDataSeries(\"VWAP\", strat.getVWAP())\n",
    "\n",
    "    strat.run()\n",
    "\n",
    "    if plot:\n",
    "        plt.plot()\n",
    "        \n",
    "main(True)"
   ]
  }
 ],
 "metadata": {
  "kernelspec": {
   "display_name": "Python 3",
   "language": "python",
   "name": "python3"
  },
  "language_info": {
   "codemirror_mode": {
    "name": "ipython",
    "version": 3
   },
   "file_extension": ".py",
   "mimetype": "text/x-python",
   "name": "python",
   "nbconvert_exporter": "python",
   "pygments_lexer": "ipython3",
   "version": "3.4.3+"
  }
 },
 "nbformat": 4,
 "nbformat_minor": 0
}
