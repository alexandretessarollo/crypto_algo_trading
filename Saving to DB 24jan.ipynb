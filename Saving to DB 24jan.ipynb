{
 "cells": [
  {
   "cell_type": "code",
   "execution_count": 14,
   "metadata": {
    "collapsed": true
   },
   "outputs": [],
   "source": [
    "from sqlalchemy import create_engine\n",
    "import pandas as pd\n",
    "import poloniex\n",
    "import datetime"
   ]
  },
  {
   "cell_type": "code",
   "execution_count": 15,
   "metadata": {},
   "outputs": [
    {
     "data": {
      "text/plain": [
       "'\\naula de hj - 24/jan/2018\\n\\nRAM é uma memória volátil\\n- é onde ficam os programas em execução\\n\\nDisco é uma memória permanente\\n\\nvc quer guardar seus dados num banco de dados (BD) porque:\\n1) não perde os dados quando desliga o computador\\n2) capacidade disco >> RAM (ex: teras x gigas)\\n\\ncomo o BD é uma estrutura de dados dinâmicaas, vc pode carregar só parte dele na memória para ir fazendo as contas e salvando os resultados nele mesmo, assim não estoura a memória\\n\\nvantagem BD x planilha:\\n- BD garante a tipagem dos dados, já a planilha não. Se vc tem uma coluna chamada data, pode entrar (na planilha) um \"xyz\" qq sem querer, já no BD não\\n- BD tem a vantagem da linguagem SQL (Structured Query Language, Linguagem de Consulta Estruturada, uma linguagem declarativa que facilita encontrar coisas dentro de um conj de dados muito grande)\\n\\nex: Select date, avg(close) from BTC_bitfinex where close>1000 group by week(date)\\n\\nvamos olhar agora o sqlite.org\\n\\nSQLite já vem dentro do python, uhull!! só dar um import sqlite3\\n\\nSQLite inclusive pode ser usado fora do Python\\n\\n\\n'"
      ]
     },
     "execution_count": 15,
     "metadata": {},
     "output_type": "execute_result"
    }
   ],
   "source": [
    "'''\n",
    "aula de hj - 24/jan/2018\n",
    "\n",
    "RAM é uma memória volátil\n",
    "- é onde ficam os programas em execução\n",
    "\n",
    "Disco é uma memória permanente\n",
    "\n",
    "vc quer guardar seus dados num banco de dados (BD) porque:\n",
    "1) não perde os dados quando desliga o computador\n",
    "2) capacidade disco >> RAM (ex: teras x gigas)\n",
    "\n",
    "como o BD é uma estrutura de dados dinâmicaas, vc pode carregar só parte dele na memória para ir fazendo as contas e salvando os resultados nele mesmo, assim não estoura a memória\n",
    "\n",
    "vantagem BD x planilha:\n",
    "- BD garante a tipagem dos dados, já a planilha não. Se vc tem uma coluna chamada data, pode entrar (na planilha) um \"xyz\" qq sem querer, já no BD não\n",
    "- BD tem a vantagem da linguagem SQL (Structured Query Language, Linguagem de Consulta Estruturada, uma linguagem declarativa que facilita encontrar coisas dentro de um conj de dados muito grande)\n",
    "\n",
    "ex: Select date, avg(close) from BTC_bitfinex where close>1000 group by week(date)\n",
    "\n",
    "vamos olhar agora o sqlite.org\n",
    "\n",
    "SQLite já vem dentro do python, uhull!! só dar um import sqlite3\n",
    "\n",
    "SQLite inclusive pode ser usado fora do Python\n",
    "\n",
    "\n",
    "Class Analise\n",
    "C = capturador (...)\n",
    "C.captura(...)\n",
    "A = analise(C)\n",
    "\n",
    "Class Capturador\n",
    "def __init__ (self, xch, par)\n",
    "    ....\n",
    "    \n",
    "def captura (self, ini, fim)\n",
    "    ...\n",
    "\n",
    "def salva (self)\n",
    "\n",
    "Tem que fazer o mínimo do projeto, e tentar algo a mais\n",
    "- colocar um gráfico dinâmico, que permita por exemplo a visualização dinâmica (mudar horizonte analisado, etc)\n",
    "\n",
    "olha que legal o orderbook:\n",
    "https://www.bfxdata.com/orderbooks/btcusd\n",
    "\n",
    "Usamos tb:\n",
    "http://localhost:8888/notebooks/Documents/GitHub/crypto_algo_trading/CCXT%20tutorial.ipynb\n",
    "http://localhost:8888/notebooks/Documents/GitHub/crypto_algo_trading/Visualizations%20Time%20series%20analyses.ipynb\n",
    "\n",
    "\n",
    "'''"
   ]
  },
  {
   "cell_type": "code",
   "execution_count": 4,
   "metadata": {
    "collapsed": true
   },
   "outputs": [],
   "source": [
    "import sqlite3"
   ]
  },
  {
   "cell_type": "code",
   "execution_count": 7,
   "metadata": {
    "collapsed": true
   },
   "outputs": [],
   "source": [
    "create_engine?"
   ]
  },
  {
   "cell_type": "code",
   "execution_count": 9,
   "metadata": {
    "collapsed": true
   },
   "outputs": [],
   "source": [
    "conexao = create_engine('sqlite:///teste.sqlite')"
   ]
  },
  {
   "cell_type": "code",
   "execution_count": 12,
   "metadata": {},
   "outputs": [
    {
     "ename": "OperationalError",
     "evalue": "(sqlite3.OperationalError) no such table: teste [SQL: 'select * from teste;']",
     "output_type": "error",
     "traceback": [
      "\u001b[1;31m---------------------------------------------------------------------------\u001b[0m",
      "\u001b[1;31mOperationalError\u001b[0m                          Traceback (most recent call last)",
      "\u001b[1;32m~\\AppData\\Local\\Continuum\\anaconda3\\lib\\site-packages\\sqlalchemy\\engine\\base.py\u001b[0m in \u001b[0;36m_execute_context\u001b[1;34m(self, dialect, constructor, statement, parameters, *args)\u001b[0m\n\u001b[0;32m   1181\u001b[0m                         \u001b[0mparameters\u001b[0m\u001b[1;33m,\u001b[0m\u001b[1;33m\u001b[0m\u001b[0m\n\u001b[1;32m-> 1182\u001b[1;33m                         context)\n\u001b[0m\u001b[0;32m   1183\u001b[0m         \u001b[1;32mexcept\u001b[0m \u001b[0mBaseException\u001b[0m \u001b[1;32mas\u001b[0m \u001b[0me\u001b[0m\u001b[1;33m:\u001b[0m\u001b[1;33m\u001b[0m\u001b[0m\n",
      "\u001b[1;32m~\\AppData\\Local\\Continuum\\anaconda3\\lib\\site-packages\\sqlalchemy\\engine\\default.py\u001b[0m in \u001b[0;36mdo_execute\u001b[1;34m(self, cursor, statement, parameters, context)\u001b[0m\n\u001b[0;32m    469\u001b[0m     \u001b[1;32mdef\u001b[0m \u001b[0mdo_execute\u001b[0m\u001b[1;33m(\u001b[0m\u001b[0mself\u001b[0m\u001b[1;33m,\u001b[0m \u001b[0mcursor\u001b[0m\u001b[1;33m,\u001b[0m \u001b[0mstatement\u001b[0m\u001b[1;33m,\u001b[0m \u001b[0mparameters\u001b[0m\u001b[1;33m,\u001b[0m \u001b[0mcontext\u001b[0m\u001b[1;33m=\u001b[0m\u001b[1;32mNone\u001b[0m\u001b[1;33m)\u001b[0m\u001b[1;33m:\u001b[0m\u001b[1;33m\u001b[0m\u001b[0m\n\u001b[1;32m--> 470\u001b[1;33m         \u001b[0mcursor\u001b[0m\u001b[1;33m.\u001b[0m\u001b[0mexecute\u001b[0m\u001b[1;33m(\u001b[0m\u001b[0mstatement\u001b[0m\u001b[1;33m,\u001b[0m \u001b[0mparameters\u001b[0m\u001b[1;33m)\u001b[0m\u001b[1;33m\u001b[0m\u001b[0m\n\u001b[0m\u001b[0;32m    471\u001b[0m \u001b[1;33m\u001b[0m\u001b[0m\n",
      "\u001b[1;31mOperationalError\u001b[0m: no such table: teste",
      "\nThe above exception was the direct cause of the following exception:\n",
      "\u001b[1;31mOperationalError\u001b[0m                          Traceback (most recent call last)",
      "\u001b[1;32m<ipython-input-12-8cd2806357d4>\u001b[0m in \u001b[0;36m<module>\u001b[1;34m()\u001b[0m\n\u001b[1;32m----> 1\u001b[1;33m \u001b[0mr\u001b[0m \u001b[1;33m=\u001b[0m \u001b[0mconexao\u001b[0m\u001b[1;33m.\u001b[0m\u001b[0mexecute\u001b[0m\u001b[1;33m(\u001b[0m\u001b[1;34m'select * from teste;'\u001b[0m\u001b[1;33m)\u001b[0m\u001b[1;33m\u001b[0m\u001b[0m\n\u001b[0m\u001b[0;32m      2\u001b[0m \u001b[0mr\u001b[0m\u001b[1;33m.\u001b[0m\u001b[0mfetchall\u001b[0m\u001b[1;33m(\u001b[0m\u001b[1;33m)\u001b[0m\u001b[1;33m\u001b[0m\u001b[0m\n\u001b[0;32m      3\u001b[0m \u001b[1;31m# se vc tivesse já uma tabela teste já preenchida, veria aqui\u001b[0m\u001b[1;33m\u001b[0m\u001b[1;33m\u001b[0m\u001b[0m\n",
      "\u001b[1;32m~\\AppData\\Local\\Continuum\\anaconda3\\lib\\site-packages\\sqlalchemy\\engine\\base.py\u001b[0m in \u001b[0;36mexecute\u001b[1;34m(self, statement, *multiparams, **params)\u001b[0m\n\u001b[0;32m   2062\u001b[0m \u001b[1;33m\u001b[0m\u001b[0m\n\u001b[0;32m   2063\u001b[0m         \u001b[0mconnection\u001b[0m \u001b[1;33m=\u001b[0m \u001b[0mself\u001b[0m\u001b[1;33m.\u001b[0m\u001b[0mcontextual_connect\u001b[0m\u001b[1;33m(\u001b[0m\u001b[0mclose_with_result\u001b[0m\u001b[1;33m=\u001b[0m\u001b[1;32mTrue\u001b[0m\u001b[1;33m)\u001b[0m\u001b[1;33m\u001b[0m\u001b[0m\n\u001b[1;32m-> 2064\u001b[1;33m         \u001b[1;32mreturn\u001b[0m \u001b[0mconnection\u001b[0m\u001b[1;33m.\u001b[0m\u001b[0mexecute\u001b[0m\u001b[1;33m(\u001b[0m\u001b[0mstatement\u001b[0m\u001b[1;33m,\u001b[0m \u001b[1;33m*\u001b[0m\u001b[0mmultiparams\u001b[0m\u001b[1;33m,\u001b[0m \u001b[1;33m**\u001b[0m\u001b[0mparams\u001b[0m\u001b[1;33m)\u001b[0m\u001b[1;33m\u001b[0m\u001b[0m\n\u001b[0m\u001b[0;32m   2065\u001b[0m \u001b[1;33m\u001b[0m\u001b[0m\n\u001b[0;32m   2066\u001b[0m     \u001b[1;32mdef\u001b[0m \u001b[0mscalar\u001b[0m\u001b[1;33m(\u001b[0m\u001b[0mself\u001b[0m\u001b[1;33m,\u001b[0m \u001b[0mstatement\u001b[0m\u001b[1;33m,\u001b[0m \u001b[1;33m*\u001b[0m\u001b[0mmultiparams\u001b[0m\u001b[1;33m,\u001b[0m \u001b[1;33m**\u001b[0m\u001b[0mparams\u001b[0m\u001b[1;33m)\u001b[0m\u001b[1;33m:\u001b[0m\u001b[1;33m\u001b[0m\u001b[0m\n",
      "\u001b[1;32m~\\AppData\\Local\\Continuum\\anaconda3\\lib\\site-packages\\sqlalchemy\\engine\\base.py\u001b[0m in \u001b[0;36mexecute\u001b[1;34m(self, object, *multiparams, **params)\u001b[0m\n\u001b[0;32m    937\u001b[0m         \"\"\"\n\u001b[0;32m    938\u001b[0m         \u001b[1;32mif\u001b[0m \u001b[0misinstance\u001b[0m\u001b[1;33m(\u001b[0m\u001b[0mobject\u001b[0m\u001b[1;33m,\u001b[0m \u001b[0mutil\u001b[0m\u001b[1;33m.\u001b[0m\u001b[0mstring_types\u001b[0m\u001b[1;33m[\u001b[0m\u001b[1;36m0\u001b[0m\u001b[1;33m]\u001b[0m\u001b[1;33m)\u001b[0m\u001b[1;33m:\u001b[0m\u001b[1;33m\u001b[0m\u001b[0m\n\u001b[1;32m--> 939\u001b[1;33m             \u001b[1;32mreturn\u001b[0m \u001b[0mself\u001b[0m\u001b[1;33m.\u001b[0m\u001b[0m_execute_text\u001b[0m\u001b[1;33m(\u001b[0m\u001b[0mobject\u001b[0m\u001b[1;33m,\u001b[0m \u001b[0mmultiparams\u001b[0m\u001b[1;33m,\u001b[0m \u001b[0mparams\u001b[0m\u001b[1;33m)\u001b[0m\u001b[1;33m\u001b[0m\u001b[0m\n\u001b[0m\u001b[0;32m    940\u001b[0m         \u001b[1;32mtry\u001b[0m\u001b[1;33m:\u001b[0m\u001b[1;33m\u001b[0m\u001b[0m\n\u001b[0;32m    941\u001b[0m             \u001b[0mmeth\u001b[0m \u001b[1;33m=\u001b[0m \u001b[0mobject\u001b[0m\u001b[1;33m.\u001b[0m\u001b[0m_execute_on_connection\u001b[0m\u001b[1;33m\u001b[0m\u001b[0m\n",
      "\u001b[1;32m~\\AppData\\Local\\Continuum\\anaconda3\\lib\\site-packages\\sqlalchemy\\engine\\base.py\u001b[0m in \u001b[0;36m_execute_text\u001b[1;34m(self, statement, multiparams, params)\u001b[0m\n\u001b[0;32m   1095\u001b[0m             \u001b[0mstatement\u001b[0m\u001b[1;33m,\u001b[0m\u001b[1;33m\u001b[0m\u001b[0m\n\u001b[0;32m   1096\u001b[0m             \u001b[0mparameters\u001b[0m\u001b[1;33m,\u001b[0m\u001b[1;33m\u001b[0m\u001b[0m\n\u001b[1;32m-> 1097\u001b[1;33m             \u001b[0mstatement\u001b[0m\u001b[1;33m,\u001b[0m \u001b[0mparameters\u001b[0m\u001b[1;33m\u001b[0m\u001b[0m\n\u001b[0m\u001b[0;32m   1098\u001b[0m         )\n\u001b[0;32m   1099\u001b[0m         \u001b[1;32mif\u001b[0m \u001b[0mself\u001b[0m\u001b[1;33m.\u001b[0m\u001b[0m_has_events\u001b[0m \u001b[1;32mor\u001b[0m \u001b[0mself\u001b[0m\u001b[1;33m.\u001b[0m\u001b[0mengine\u001b[0m\u001b[1;33m.\u001b[0m\u001b[0m_has_events\u001b[0m\u001b[1;33m:\u001b[0m\u001b[1;33m\u001b[0m\u001b[0m\n",
      "\u001b[1;32m~\\AppData\\Local\\Continuum\\anaconda3\\lib\\site-packages\\sqlalchemy\\engine\\base.py\u001b[0m in \u001b[0;36m_execute_context\u001b[1;34m(self, dialect, constructor, statement, parameters, *args)\u001b[0m\n\u001b[0;32m   1187\u001b[0m                 \u001b[0mparameters\u001b[0m\u001b[1;33m,\u001b[0m\u001b[1;33m\u001b[0m\u001b[0m\n\u001b[0;32m   1188\u001b[0m                 \u001b[0mcursor\u001b[0m\u001b[1;33m,\u001b[0m\u001b[1;33m\u001b[0m\u001b[0m\n\u001b[1;32m-> 1189\u001b[1;33m                 context)\n\u001b[0m\u001b[0;32m   1190\u001b[0m \u001b[1;33m\u001b[0m\u001b[0m\n\u001b[0;32m   1191\u001b[0m         \u001b[1;32mif\u001b[0m \u001b[0mself\u001b[0m\u001b[1;33m.\u001b[0m\u001b[0m_has_events\u001b[0m \u001b[1;32mor\u001b[0m \u001b[0mself\u001b[0m\u001b[1;33m.\u001b[0m\u001b[0mengine\u001b[0m\u001b[1;33m.\u001b[0m\u001b[0m_has_events\u001b[0m\u001b[1;33m:\u001b[0m\u001b[1;33m\u001b[0m\u001b[0m\n",
      "\u001b[1;32m~\\AppData\\Local\\Continuum\\anaconda3\\lib\\site-packages\\sqlalchemy\\engine\\base.py\u001b[0m in \u001b[0;36m_handle_dbapi_exception\u001b[1;34m(self, e, statement, parameters, cursor, context)\u001b[0m\n\u001b[0;32m   1400\u001b[0m                 util.raise_from_cause(\n\u001b[0;32m   1401\u001b[0m                     \u001b[0msqlalchemy_exception\u001b[0m\u001b[1;33m,\u001b[0m\u001b[1;33m\u001b[0m\u001b[0m\n\u001b[1;32m-> 1402\u001b[1;33m                     \u001b[0mexc_info\u001b[0m\u001b[1;33m\u001b[0m\u001b[0m\n\u001b[0m\u001b[0;32m   1403\u001b[0m                 )\n\u001b[0;32m   1404\u001b[0m             \u001b[1;32melse\u001b[0m\u001b[1;33m:\u001b[0m\u001b[1;33m\u001b[0m\u001b[0m\n",
      "\u001b[1;32m~\\AppData\\Local\\Continuum\\anaconda3\\lib\\site-packages\\sqlalchemy\\util\\compat.py\u001b[0m in \u001b[0;36mraise_from_cause\u001b[1;34m(exception, exc_info)\u001b[0m\n\u001b[0;32m    201\u001b[0m     \u001b[0mexc_type\u001b[0m\u001b[1;33m,\u001b[0m \u001b[0mexc_value\u001b[0m\u001b[1;33m,\u001b[0m \u001b[0mexc_tb\u001b[0m \u001b[1;33m=\u001b[0m \u001b[0mexc_info\u001b[0m\u001b[1;33m\u001b[0m\u001b[0m\n\u001b[0;32m    202\u001b[0m     \u001b[0mcause\u001b[0m \u001b[1;33m=\u001b[0m \u001b[0mexc_value\u001b[0m \u001b[1;32mif\u001b[0m \u001b[0mexc_value\u001b[0m \u001b[1;32mis\u001b[0m \u001b[1;32mnot\u001b[0m \u001b[0mexception\u001b[0m \u001b[1;32melse\u001b[0m \u001b[1;32mNone\u001b[0m\u001b[1;33m\u001b[0m\u001b[0m\n\u001b[1;32m--> 203\u001b[1;33m     \u001b[0mreraise\u001b[0m\u001b[1;33m(\u001b[0m\u001b[0mtype\u001b[0m\u001b[1;33m(\u001b[0m\u001b[0mexception\u001b[0m\u001b[1;33m)\u001b[0m\u001b[1;33m,\u001b[0m \u001b[0mexception\u001b[0m\u001b[1;33m,\u001b[0m \u001b[0mtb\u001b[0m\u001b[1;33m=\u001b[0m\u001b[0mexc_tb\u001b[0m\u001b[1;33m,\u001b[0m \u001b[0mcause\u001b[0m\u001b[1;33m=\u001b[0m\u001b[0mcause\u001b[0m\u001b[1;33m)\u001b[0m\u001b[1;33m\u001b[0m\u001b[0m\n\u001b[0m\u001b[0;32m    204\u001b[0m \u001b[1;33m\u001b[0m\u001b[0m\n\u001b[0;32m    205\u001b[0m \u001b[1;32mif\u001b[0m \u001b[0mpy3k\u001b[0m\u001b[1;33m:\u001b[0m\u001b[1;33m\u001b[0m\u001b[0m\n",
      "\u001b[1;32m~\\AppData\\Local\\Continuum\\anaconda3\\lib\\site-packages\\sqlalchemy\\util\\compat.py\u001b[0m in \u001b[0;36mreraise\u001b[1;34m(tp, value, tb, cause)\u001b[0m\n\u001b[0;32m    184\u001b[0m             \u001b[0mvalue\u001b[0m\u001b[1;33m.\u001b[0m\u001b[0m__cause__\u001b[0m \u001b[1;33m=\u001b[0m \u001b[0mcause\u001b[0m\u001b[1;33m\u001b[0m\u001b[0m\n\u001b[0;32m    185\u001b[0m         \u001b[1;32mif\u001b[0m \u001b[0mvalue\u001b[0m\u001b[1;33m.\u001b[0m\u001b[0m__traceback__\u001b[0m \u001b[1;32mis\u001b[0m \u001b[1;32mnot\u001b[0m \u001b[0mtb\u001b[0m\u001b[1;33m:\u001b[0m\u001b[1;33m\u001b[0m\u001b[0m\n\u001b[1;32m--> 186\u001b[1;33m             \u001b[1;32mraise\u001b[0m \u001b[0mvalue\u001b[0m\u001b[1;33m.\u001b[0m\u001b[0mwith_traceback\u001b[0m\u001b[1;33m(\u001b[0m\u001b[0mtb\u001b[0m\u001b[1;33m)\u001b[0m\u001b[1;33m\u001b[0m\u001b[0m\n\u001b[0m\u001b[0;32m    187\u001b[0m         \u001b[1;32mraise\u001b[0m \u001b[0mvalue\u001b[0m\u001b[1;33m\u001b[0m\u001b[0m\n\u001b[0;32m    188\u001b[0m \u001b[1;33m\u001b[0m\u001b[0m\n",
      "\u001b[1;32m~\\AppData\\Local\\Continuum\\anaconda3\\lib\\site-packages\\sqlalchemy\\engine\\base.py\u001b[0m in \u001b[0;36m_execute_context\u001b[1;34m(self, dialect, constructor, statement, parameters, *args)\u001b[0m\n\u001b[0;32m   1180\u001b[0m                         \u001b[0mstatement\u001b[0m\u001b[1;33m,\u001b[0m\u001b[1;33m\u001b[0m\u001b[0m\n\u001b[0;32m   1181\u001b[0m                         \u001b[0mparameters\u001b[0m\u001b[1;33m,\u001b[0m\u001b[1;33m\u001b[0m\u001b[0m\n\u001b[1;32m-> 1182\u001b[1;33m                         context)\n\u001b[0m\u001b[0;32m   1183\u001b[0m         \u001b[1;32mexcept\u001b[0m \u001b[0mBaseException\u001b[0m \u001b[1;32mas\u001b[0m \u001b[0me\u001b[0m\u001b[1;33m:\u001b[0m\u001b[1;33m\u001b[0m\u001b[0m\n\u001b[0;32m   1184\u001b[0m             self._handle_dbapi_exception(\n",
      "\u001b[1;32m~\\AppData\\Local\\Continuum\\anaconda3\\lib\\site-packages\\sqlalchemy\\engine\\default.py\u001b[0m in \u001b[0;36mdo_execute\u001b[1;34m(self, cursor, statement, parameters, context)\u001b[0m\n\u001b[0;32m    468\u001b[0m \u001b[1;33m\u001b[0m\u001b[0m\n\u001b[0;32m    469\u001b[0m     \u001b[1;32mdef\u001b[0m \u001b[0mdo_execute\u001b[0m\u001b[1;33m(\u001b[0m\u001b[0mself\u001b[0m\u001b[1;33m,\u001b[0m \u001b[0mcursor\u001b[0m\u001b[1;33m,\u001b[0m \u001b[0mstatement\u001b[0m\u001b[1;33m,\u001b[0m \u001b[0mparameters\u001b[0m\u001b[1;33m,\u001b[0m \u001b[0mcontext\u001b[0m\u001b[1;33m=\u001b[0m\u001b[1;32mNone\u001b[0m\u001b[1;33m)\u001b[0m\u001b[1;33m:\u001b[0m\u001b[1;33m\u001b[0m\u001b[0m\n\u001b[1;32m--> 470\u001b[1;33m         \u001b[0mcursor\u001b[0m\u001b[1;33m.\u001b[0m\u001b[0mexecute\u001b[0m\u001b[1;33m(\u001b[0m\u001b[0mstatement\u001b[0m\u001b[1;33m,\u001b[0m \u001b[0mparameters\u001b[0m\u001b[1;33m)\u001b[0m\u001b[1;33m\u001b[0m\u001b[0m\n\u001b[0m\u001b[0;32m    471\u001b[0m \u001b[1;33m\u001b[0m\u001b[0m\n\u001b[0;32m    472\u001b[0m     \u001b[1;32mdef\u001b[0m \u001b[0mdo_execute_no_params\u001b[0m\u001b[1;33m(\u001b[0m\u001b[0mself\u001b[0m\u001b[1;33m,\u001b[0m \u001b[0mcursor\u001b[0m\u001b[1;33m,\u001b[0m \u001b[0mstatement\u001b[0m\u001b[1;33m,\u001b[0m \u001b[0mcontext\u001b[0m\u001b[1;33m=\u001b[0m\u001b[1;32mNone\u001b[0m\u001b[1;33m)\u001b[0m\u001b[1;33m:\u001b[0m\u001b[1;33m\u001b[0m\u001b[0m\n",
      "\u001b[1;31mOperationalError\u001b[0m: (sqlite3.OperationalError) no such table: teste [SQL: 'select * from teste;']"
     ]
    }
   ],
   "source": [
    "r = conexao.execute('select * from teste;')\n",
    "r.fetchall()\n",
    "# se vc tivesse já uma tabela teste já preenchida, veria aqui"
   ]
  },
  {
   "cell_type": "code",
   "execution_count": 16,
   "metadata": {},
   "outputs": [
    {
     "name": "stdout",
     "output_type": "stream",
     "text": [
      "Downloading USDT_ETH from 2017-01-29 15:15:12.801221 to 2018-01-24 15:15:12.801221.\n"
     ]
    }
   ],
   "source": [
    "end = datetime.datetime.now()\n",
    "start = end - datetime.timedelta(days=360)\n",
    "ether = poloniex.get_ohlc('USDT_ETH',start, end)"
   ]
  },
  {
   "cell_type": "code",
   "execution_count": 17,
   "metadata": {},
   "outputs": [
    {
     "data": {
      "text/plain": [
       "<bound method NDFrame.head of                            close         high          low         open  \\\n",
       "date                                                                      \n",
       "2017-01-29 17:20:00    10.478663    10.478663    10.478663    10.478663   \n",
       "2017-01-29 17:25:00    10.430000    10.481214    10.430000    10.481213   \n",
       "2017-01-29 17:30:00    10.430000    10.430000    10.430000    10.430000   \n",
       "2017-01-29 17:35:00    10.480518    10.480518    10.480518    10.480518   \n",
       "2017-01-29 17:40:00    10.480518    10.480518    10.480518    10.480518   \n",
       "2017-01-29 17:45:00    10.425000    10.487519    10.425000    10.480517   \n",
       "2017-01-29 17:50:00    10.444754    10.444754    10.438301    10.438301   \n",
       "2017-01-29 17:55:00    10.444754    10.444754    10.444754    10.444754   \n",
       "2017-01-29 18:00:00    10.444754    10.444754    10.444754    10.444754   \n",
       "2017-01-29 18:05:00    10.440237    10.440237    10.440237    10.440237   \n",
       "2017-01-29 18:10:00    10.440237    10.440237    10.440237    10.440237   \n",
       "2017-01-29 18:15:00    10.430000    10.440237    10.430000    10.440237   \n",
       "2017-01-29 18:20:00    10.430001    10.430001    10.430000    10.430000   \n",
       "2017-01-29 18:25:00    10.430000    10.430000    10.430000    10.430000   \n",
       "2017-01-29 18:30:00    10.430000    10.430000    10.430000    10.430000   \n",
       "2017-01-29 18:35:00    10.430000    10.430000    10.430000    10.430000   \n",
       "2017-01-29 18:40:00    10.444754    10.444754    10.430000    10.430001   \n",
       "2017-01-29 18:45:00    10.430000    10.444754    10.430000    10.444754   \n",
       "2017-01-29 18:50:00    10.430000    10.430000    10.430000    10.430000   \n",
       "2017-01-29 18:55:00    10.425000    10.430000    10.425000    10.430000   \n",
       "2017-01-29 19:00:00    10.425000    10.444754    10.425000    10.444754   \n",
       "2017-01-29 19:05:00    10.414357    10.425000    10.414357    10.425000   \n",
       "2017-01-29 19:10:00    10.448148    10.448148    10.444754    10.444754   \n",
       "2017-01-29 19:15:00    10.448148    10.448148    10.448148    10.448148   \n",
       "2017-01-29 19:20:00    10.448148    10.448148    10.448148    10.448148   \n",
       "2017-01-29 19:25:00    10.448272    10.448272    10.448272    10.448272   \n",
       "2017-01-29 19:30:00    10.448272    10.448272    10.448272    10.448272   \n",
       "2017-01-29 19:35:00    10.416267    10.417120    10.416267    10.417120   \n",
       "2017-01-29 19:40:00    10.400000    10.448351    10.400000    10.448351   \n",
       "2017-01-29 19:45:00    10.400000    10.400000    10.400000    10.400000   \n",
       "...                          ...          ...          ...          ...   \n",
       "2018-01-24 14:45:00  1045.000000  1055.270571  1043.206846  1054.286080   \n",
       "2018-01-24 14:50:00  1046.879454  1049.706846  1041.774454  1045.000000   \n",
       "2018-01-24 14:55:00  1045.900000  1046.000000  1043.779454  1045.419228   \n",
       "2018-01-24 15:00:00  1041.774454  1044.826451  1041.774454  1043.119228   \n",
       "2018-01-24 15:05:00  1037.685500  1045.900000  1037.632875  1041.774454   \n",
       "2018-01-24 15:10:00  1030.000000  1037.685500  1029.000000  1037.632875   \n",
       "2018-01-24 15:15:00  1030.000000  1040.518287  1024.979224  1029.000000   \n",
       "2018-01-24 15:20:00  1032.283019  1035.272440  1028.128390  1033.972440   \n",
       "2018-01-24 15:25:00  1034.504279  1034.504279  1029.983019  1029.983019   \n",
       "2018-01-24 15:30:00  1031.000000  1038.997535  1031.000000  1034.504279   \n",
       "2018-01-24 15:35:00  1027.707413  1031.033096  1027.707413  1030.000000   \n",
       "2018-01-24 15:40:00  1032.033096  1032.033442  1027.218160  1029.033096   \n",
       "2018-01-24 15:45:00  1032.333096  1032.433096  1030.000000  1030.000000   \n",
       "2018-01-24 15:50:00  1021.000000  1032.333096  1021.000000  1032.333096   \n",
       "2018-01-24 15:55:00  1014.000000  1024.535509  1014.000000  1023.733096   \n",
       "2018-01-24 16:00:00  1012.977394  1016.752142  1012.977394  1016.752142   \n",
       "2018-01-24 16:05:00  1016.605905  1021.000000  1011.955605  1012.977394   \n",
       "2018-01-24 16:10:00  1012.841786  1016.605905  1008.145945  1015.171050   \n",
       "2018-01-24 16:15:00  1013.512500  1016.239602   996.077080  1011.000000   \n",
       "2018-01-24 16:20:00  1011.823859  1015.110000  1011.445812  1013.110000   \n",
       "2018-01-24 16:25:00  1012.000000  1015.110000  1010.239601  1011.823859   \n",
       "2018-01-24 16:30:00  1015.000000  1015.000000  1010.239601  1014.110000   \n",
       "2018-01-24 16:35:00  1021.126508  1021.719238  1011.419238  1013.639292   \n",
       "2018-01-24 16:40:00  1018.158637  1024.158637  1017.158637  1021.719238   \n",
       "2018-01-24 16:45:00  1020.531360  1022.197526  1016.797526  1018.158637   \n",
       "2018-01-24 16:50:00  1018.898100  1021.000000  1018.831360  1019.898100   \n",
       "2018-01-24 16:55:00  1020.078231  1020.078231  1017.292916  1018.278231   \n",
       "2018-01-24 17:00:00  1013.359626  1020.078232  1013.359626  1020.078232   \n",
       "2018-01-24 17:05:00  1015.933060  1017.150010  1011.978231  1013.249821   \n",
       "2018-01-24 17:10:00  1005.027929  1013.048286  1001.990000  1013.048286   \n",
       "\n",
       "                     quoteVolume         volume  weightedAverage  \n",
       "date                                                              \n",
       "2017-01-29 17:20:00     0.000000       0.000000        10.478663  \n",
       "2017-01-29 17:25:00    52.798577     553.344656        10.480295  \n",
       "2017-01-29 17:30:00     0.000000       0.000000        10.430000  \n",
       "2017-01-29 17:35:00     0.021135       0.221502        10.480518  \n",
       "2017-01-29 17:40:00     0.000000       0.000000        10.480518  \n",
       "2017-01-29 17:45:00   741.207482    7768.308521        10.480613  \n",
       "2017-01-29 17:50:00     2.997552      31.302181        10.442581  \n",
       "2017-01-29 17:55:00     0.000000       0.000000        10.444754  \n",
       "2017-01-29 18:00:00     0.387931       4.051847        10.444754  \n",
       "2017-01-29 18:05:00     4.812909      50.247906        10.440237  \n",
       "2017-01-29 18:10:00     0.103326       1.078748        10.440237  \n",
       "2017-01-29 18:15:00     3.585210      37.415085        10.435954  \n",
       "2017-01-29 18:20:00     2.661535      27.759809        10.430000  \n",
       "2017-01-29 18:25:00     0.400000       4.172000        10.430000  \n",
       "2017-01-29 18:30:00     0.016900       0.176267        10.430000  \n",
       "2017-01-29 18:35:00     0.000000       0.000000        10.430000  \n",
       "2017-01-29 18:40:00     2.754826      28.740529        10.432791  \n",
       "2017-01-29 18:45:00     4.031126      42.044954        10.430077  \n",
       "2017-01-29 18:50:00     0.000000       0.000000        10.430000  \n",
       "2017-01-29 18:55:00    58.602738     611.018040        10.426442  \n",
       "2017-01-29 19:00:00     1.610968      16.808006        10.433486  \n",
       "2017-01-29 19:05:00   536.931956    5592.025168        10.414774  \n",
       "2017-01-29 19:10:00     1.928700      20.150021        10.447463  \n",
       "2017-01-29 19:15:00     0.000000       0.000000        10.448148  \n",
       "2017-01-29 19:20:00     0.000000       0.000000        10.448148  \n",
       "2017-01-29 19:25:00     0.700000       7.313791        10.448272  \n",
       "2017-01-29 19:30:00     0.000000       0.000000        10.448272  \n",
       "2017-01-29 19:35:00     0.017300       0.180210        10.416760  \n",
       "2017-01-29 19:40:00   335.054000    3484.606596        10.400134  \n",
       "2017-01-29 19:45:00    67.480020     701.792208        10.400000  \n",
       "...                          ...            ...              ...  \n",
       "2018-01-24 14:45:00   310.640224  326797.041604      1052.011351  \n",
       "2018-01-24 14:50:00    96.727046  101034.876144      1044.535945  \n",
       "2018-01-24 14:55:00    55.331970   57859.938183      1045.687292  \n",
       "2018-01-24 15:00:00    33.628449   35096.773760      1043.663185  \n",
       "2018-01-24 15:05:00    47.262824   49204.305746      1041.078417  \n",
       "2018-01-24 15:10:00   126.604136  130736.607381      1032.640889  \n",
       "2018-01-24 15:15:00    86.578931   89193.528771      1030.199011  \n",
       "2018-01-24 15:20:00    28.749887   29631.538672      1030.666249  \n",
       "2018-01-24 15:25:00    24.585659   25381.438282      1032.367627  \n",
       "2018-01-24 15:30:00   124.773516  129044.864489      1034.232813  \n",
       "2018-01-24 15:35:00    57.390390   59054.914607      1029.003541  \n",
       "2018-01-24 15:40:00    51.420387   52921.630173      1029.195476  \n",
       "2018-01-24 15:45:00    14.505683   14969.348097      1031.964341  \n",
       "2018-01-24 15:50:00    57.344351   59066.501987      1030.031752  \n",
       "2018-01-24 15:55:00    42.327111   43066.401763      1017.466136  \n",
       "2018-01-24 16:00:00    63.132470   64038.653264      1014.353683  \n",
       "2018-01-24 16:05:00    28.443508   28876.941201      1015.238398  \n",
       "2018-01-24 16:10:00   106.218067  107310.707432      1010.286766  \n",
       "2018-01-24 16:15:00   357.834683  359644.519708      1005.057746  \n",
       "2018-01-24 16:20:00   138.564648  140197.629283      1011.784977  \n",
       "2018-01-24 16:25:00    30.402672   30819.941786      1013.724780  \n",
       "2018-01-24 16:30:00    48.187822   48822.145774      1013.163561  \n",
       "2018-01-24 16:35:00    55.459032   56250.269493      1014.267061  \n",
       "2018-01-24 16:40:00    62.097401   63466.387424      1022.045792  \n",
       "2018-01-24 16:45:00    65.592968   66906.509877      1020.025652  \n",
       "2018-01-24 16:50:00     6.627741    6758.113820      1019.670747  \n",
       "2018-01-24 16:55:00    13.984212   14262.608587      1019.907908  \n",
       "2018-01-24 17:00:00    23.329532   23708.558536      1016.246636  \n",
       "2018-01-24 17:05:00    53.360475   54153.229546      1014.856581  \n",
       "2018-01-24 17:10:00    66.594432   67146.838416      1008.295087  \n",
       "\n",
       "[103679 rows x 7 columns]>"
      ]
     },
     "execution_count": 17,
     "metadata": {},
     "output_type": "execute_result"
    }
   ],
   "source": [
    "ether.head"
   ]
  },
  {
   "cell_type": "code",
   "execution_count": 18,
   "metadata": {
    "collapsed": true
   },
   "outputs": [],
   "source": [
    "conexao2 = create_engine('sqlite:///ether.sqlite')"
   ]
  },
  {
   "cell_type": "code",
   "execution_count": 20,
   "metadata": {
    "collapsed": true
   },
   "outputs": [],
   "source": [
    "ether.to_sql?"
   ]
  },
  {
   "cell_type": "code",
   "execution_count": 22,
   "metadata": {
    "collapsed": true
   },
   "outputs": [],
   "source": [
    "ether.to_sql('poloniex', conexao2)"
   ]
  },
  {
   "cell_type": "code",
   "execution_count": 23,
   "metadata": {},
   "outputs": [
    {
     "data": {
      "text/plain": [
       "[('2017-01-29 17:20:00.000000', 10.47866276, 10.47866276, 10.47866276, 10.47866276, 0.0, 0.0, 10.47866276),\n",
       " ('2017-01-29 17:25:00.000000', 10.43, 10.48121365, 10.43, 10.48121256, 52.79857693, 553.34465559, 10.48029488),\n",
       " ('2017-01-29 17:30:00.000000', 10.43, 10.43, 10.43, 10.43, 0.0, 0.0, 10.43),\n",
       " ('2017-01-29 17:35:00.000000', 10.48051761, 10.48051761, 10.48051761, 10.48051761, 0.02113461, 0.22150165, 10.48051761),\n",
       " ('2017-01-29 17:40:00.000000', 10.48051761, 10.48051761, 10.48051761, 10.48051761, 0.0, 0.0, 10.48051761)]"
      ]
     },
     "execution_count": 23,
     "metadata": {},
     "output_type": "execute_result"
    }
   ],
   "source": [
    "r = conexao2.execute('select * from poloniex limit 5;')\n",
    "r.fetchall()"
   ]
  },
  {
   "cell_type": "code",
   "execution_count": 24,
   "metadata": {
    "collapsed": true
   },
   "outputs": [],
   "source": [
    "pd.read_sql_query?"
   ]
  },
  {
   "cell_type": "code",
   "execution_count": 25,
   "metadata": {},
   "outputs": [
    {
     "data": {
      "text/html": [
       "<div>\n",
       "<style>\n",
       "    .dataframe thead tr:only-child th {\n",
       "        text-align: right;\n",
       "    }\n",
       "\n",
       "    .dataframe thead th {\n",
       "        text-align: left;\n",
       "    }\n",
       "\n",
       "    .dataframe tbody tr th {\n",
       "        vertical-align: top;\n",
       "    }\n",
       "</style>\n",
       "<table border=\"1\" class=\"dataframe\">\n",
       "  <thead>\n",
       "    <tr style=\"text-align: right;\">\n",
       "      <th></th>\n",
       "      <th>date</th>\n",
       "      <th>close</th>\n",
       "      <th>high</th>\n",
       "      <th>low</th>\n",
       "      <th>open</th>\n",
       "      <th>quoteVolume</th>\n",
       "      <th>volume</th>\n",
       "      <th>weightedAverage</th>\n",
       "    </tr>\n",
       "  </thead>\n",
       "  <tbody>\n",
       "    <tr>\n",
       "      <th>0</th>\n",
       "      <td>2017-01-29 17:20:00.000000</td>\n",
       "      <td>10.478663</td>\n",
       "      <td>10.478663</td>\n",
       "      <td>10.478663</td>\n",
       "      <td>10.478663</td>\n",
       "      <td>0.000000</td>\n",
       "      <td>0.000000</td>\n",
       "      <td>10.478663</td>\n",
       "    </tr>\n",
       "    <tr>\n",
       "      <th>1</th>\n",
       "      <td>2017-01-29 17:25:00.000000</td>\n",
       "      <td>10.430000</td>\n",
       "      <td>10.481214</td>\n",
       "      <td>10.430000</td>\n",
       "      <td>10.481213</td>\n",
       "      <td>52.798577</td>\n",
       "      <td>553.344656</td>\n",
       "      <td>10.480295</td>\n",
       "    </tr>\n",
       "    <tr>\n",
       "      <th>2</th>\n",
       "      <td>2017-01-29 17:30:00.000000</td>\n",
       "      <td>10.430000</td>\n",
       "      <td>10.430000</td>\n",
       "      <td>10.430000</td>\n",
       "      <td>10.430000</td>\n",
       "      <td>0.000000</td>\n",
       "      <td>0.000000</td>\n",
       "      <td>10.430000</td>\n",
       "    </tr>\n",
       "    <tr>\n",
       "      <th>3</th>\n",
       "      <td>2017-01-29 17:35:00.000000</td>\n",
       "      <td>10.480518</td>\n",
       "      <td>10.480518</td>\n",
       "      <td>10.480518</td>\n",
       "      <td>10.480518</td>\n",
       "      <td>0.021135</td>\n",
       "      <td>0.221502</td>\n",
       "      <td>10.480518</td>\n",
       "    </tr>\n",
       "    <tr>\n",
       "      <th>4</th>\n",
       "      <td>2017-01-29 17:40:00.000000</td>\n",
       "      <td>10.480518</td>\n",
       "      <td>10.480518</td>\n",
       "      <td>10.480518</td>\n",
       "      <td>10.480518</td>\n",
       "      <td>0.000000</td>\n",
       "      <td>0.000000</td>\n",
       "      <td>10.480518</td>\n",
       "    </tr>\n",
       "  </tbody>\n",
       "</table>\n",
       "</div>"
      ],
      "text/plain": [
       "                         date      close       high        low       open  \\\n",
       "0  2017-01-29 17:20:00.000000  10.478663  10.478663  10.478663  10.478663   \n",
       "1  2017-01-29 17:25:00.000000  10.430000  10.481214  10.430000  10.481213   \n",
       "2  2017-01-29 17:30:00.000000  10.430000  10.430000  10.430000  10.430000   \n",
       "3  2017-01-29 17:35:00.000000  10.480518  10.480518  10.480518  10.480518   \n",
       "4  2017-01-29 17:40:00.000000  10.480518  10.480518  10.480518  10.480518   \n",
       "\n",
       "   quoteVolume      volume  weightedAverage  \n",
       "0     0.000000    0.000000        10.478663  \n",
       "1    52.798577  553.344656        10.480295  \n",
       "2     0.000000    0.000000        10.430000  \n",
       "3     0.021135    0.221502        10.480518  \n",
       "4     0.000000    0.000000        10.480518  "
      ]
     },
     "execution_count": 25,
     "metadata": {},
     "output_type": "execute_result"
    }
   ],
   "source": [
    "df = pd.read_sql_query('select * from poloniex limit 5;', conexao2)\n",
    "df"
   ]
  },
  {
   "cell_type": "code",
   "execution_count": 3,
   "metadata": {
    "scrolled": true
   },
   "outputs": [
    {
     "ename": "NameError",
     "evalue": "name 'btc' is not defined",
     "output_type": "error",
     "traceback": [
      "\u001b[1;31m---------------------------------------------------------------------------\u001b[0m",
      "\u001b[1;31mNameError\u001b[0m                                 Traceback (most recent call last)",
      "\u001b[1;32m<ipython-input-3-05fcceb4dfea>\u001b[0m in \u001b[0;36m<module>\u001b[1;34m()\u001b[0m\n\u001b[1;32m----> 1\u001b[1;33m \u001b[0mbtc\u001b[0m\u001b[1;33m.\u001b[0m\u001b[0mindex\u001b[0m\u001b[1;33m\u001b[0m\u001b[0m\n\u001b[0m",
      "\u001b[1;31mNameError\u001b[0m: name 'btc' is not defined"
     ]
    }
   ],
   "source": [
    "btc.index"
   ]
  },
  {
   "cell_type": "code",
   "execution_count": null,
   "metadata": {
    "collapsed": true
   },
   "outputs": [],
   "source": []
  }
 ],
 "metadata": {
  "kernelspec": {
   "display_name": "Python 3",
   "language": "python",
   "name": "python3"
  },
  "language_info": {
   "codemirror_mode": {
    "name": "ipython",
    "version": 3
   },
   "file_extension": ".py",
   "mimetype": "text/x-python",
   "name": "python",
   "nbconvert_exporter": "python",
   "pygments_lexer": "ipython3",
   "version": "3.6.3"
  }
 },
 "nbformat": 4,
 "nbformat_minor": 2
}
